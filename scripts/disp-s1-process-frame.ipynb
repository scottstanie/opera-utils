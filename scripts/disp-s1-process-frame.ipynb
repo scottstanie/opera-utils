{
 "cells": [
  {
   "cell_type": "code",
   "execution_count": 1,
   "id": "d868cee9-2e58-49f7-a0fb-eac9f561034f",
   "metadata": {
    "editable": true,
    "slideshow": {
     "slide_type": ""
    },
    "tags": []
   },
   "outputs": [],
   "source": [
    "from pathlib import Path\n",
    "\n",
    "from rich import print\n",
    "\n",
    "import opera_utils.disp.search\n",
    "\n",
    "%matplotlib inline\n",
    "%load_ext rich"
   ]
  },
  {
   "cell_type": "code",
   "execution_count": 2,
   "id": "cfb0aacf-e414-4521-b6eb-14a059b07da7",
   "metadata": {
    "editable": true,
    "slideshow": {
     "slide_type": ""
    },
    "tags": [
     "parameters"
    ]
   },
   "outputs": [],
   "source": [
    "frame_id = 11116\n",
    "url_type = \"https\"\n",
    "num_workers = 5\n",
    "work_dir = Path(\"/home/staniewi/dev/disp-production-data/descending/F11116\")"
   ]
  },
  {
   "cell_type": "code",
   "execution_count": 9,
   "id": "6fc75b0a-f5b3-49ca-b6eb-852d602d48de",
   "metadata": {
    "editable": true,
    "slideshow": {
     "slide_type": ""
    },
    "tags": []
   },
   "outputs": [
    {
     "data": {
      "text/html": [
       "<pre style=\"white-space:pre;overflow-x:auto;line-height:normal;font-family:Menlo,'DejaVu Sans Mono',consolas,'Courier New',monospace\">Found <span style=\"color: #800080; text-decoration-color: #800080; font-weight: bold\">len</span><span style=\"font-weight: bold\">(</span>granules<span style=\"font-weight: bold\">)</span> = <span style=\"color: #008080; text-decoration-color: #008080; font-weight: bold\">299</span> for frame_id = <span style=\"color: #008080; text-decoration-color: #008080; font-weight: bold\">11116</span>\n",
       "</pre>\n"
      ],
      "text/plain": [
       "Found \u001b[1;35mlen\u001b[0m\u001b[1m(\u001b[0mgranules\u001b[1m)\u001b[0m = \u001b[1;36m299\u001b[0m for frame_id = \u001b[1;36m11116\u001b[0m\n"
      ]
     },
     "metadata": {},
     "output_type": "display_data"
    },
    {
     "data": {
      "text/html": [
       "<pre style=\"white-space:pre;overflow-x:auto;line-height:normal;font-family:Menlo,'DejaVu Sans Mono',consolas,'Courier New',monospace\"><span style=\"font-weight: bold\">[</span>\n",
       "    <span style=\"color: #800080; text-decoration-color: #800080; font-weight: bold\">Granule</span><span style=\"font-weight: bold\">(</span>\n",
       "        <span style=\"color: #808000; text-decoration-color: #808000\">product</span>=<span style=\"color: #800080; text-decoration-color: #800080; font-weight: bold\">DispProduct</span><span style=\"font-weight: bold\">(</span>\n",
       "            <span style=\"color: #808000; text-decoration-color: #808000\">filename</span>=<span style=\"color: #008000; text-decoration-color: #008000\">'https://datapool.asf.alaska.edu/DISP/OPERA-S1/OPERA_L3_DISP-S1_IW_F11116_VV_20160705T140755Z_</span>\n",
       "<span style=\"color: #008000; text-decoration-color: #008000\">20160729T140756Z_v1.0_20250408T163512Z.nc'</span>,\n",
       "            <span style=\"color: #808000; text-decoration-color: #808000\">sensor</span>=<span style=\"color: #008000; text-decoration-color: #008000\">'S1'</span>,\n",
       "            <span style=\"color: #808000; text-decoration-color: #808000\">acquisition_mode</span>=<span style=\"color: #008000; text-decoration-color: #008000\">'IW'</span>,\n",
       "            <span style=\"color: #808000; text-decoration-color: #808000\">frame_id</span>=<span style=\"color: #008080; text-decoration-color: #008080; font-weight: bold\">11116</span>,\n",
       "            <span style=\"color: #808000; text-decoration-color: #808000\">polarization</span>=<span style=\"color: #008000; text-decoration-color: #008000\">'VV'</span>,\n",
       "            <span style=\"color: #808000; text-decoration-color: #808000\">reference_datetime</span>=<span style=\"color: #800080; text-decoration-color: #800080; font-weight: bold\">datetime</span><span style=\"color: #800080; text-decoration-color: #800080; font-weight: bold\">.datetime</span><span style=\"font-weight: bold\">(</span><span style=\"color: #008080; text-decoration-color: #008080; font-weight: bold\">2016</span>, <span style=\"color: #008080; text-decoration-color: #008080; font-weight: bold\">7</span>, <span style=\"color: #008080; text-decoration-color: #008080; font-weight: bold\">5</span>, <span style=\"color: #008080; text-decoration-color: #008080; font-weight: bold\">14</span>, <span style=\"color: #008080; text-decoration-color: #008080; font-weight: bold\">7</span>, <span style=\"color: #008080; text-decoration-color: #008080; font-weight: bold\">55</span>, <span style=\"color: #808000; text-decoration-color: #808000\">tzinfo</span>=<span style=\"color: #800080; text-decoration-color: #800080\">datetime</span>.timezone.utc<span style=\"font-weight: bold\">)</span>,\n",
       "            <span style=\"color: #808000; text-decoration-color: #808000\">secondary_datetime</span>=<span style=\"color: #800080; text-decoration-color: #800080; font-weight: bold\">datetime</span><span style=\"color: #800080; text-decoration-color: #800080; font-weight: bold\">.datetime</span><span style=\"font-weight: bold\">(</span><span style=\"color: #008080; text-decoration-color: #008080; font-weight: bold\">2016</span>, <span style=\"color: #008080; text-decoration-color: #008080; font-weight: bold\">7</span>, <span style=\"color: #008080; text-decoration-color: #008080; font-weight: bold\">29</span>, <span style=\"color: #008080; text-decoration-color: #008080; font-weight: bold\">14</span>, <span style=\"color: #008080; text-decoration-color: #008080; font-weight: bold\">7</span>, <span style=\"color: #008080; text-decoration-color: #008080; font-weight: bold\">56</span>, <span style=\"color: #808000; text-decoration-color: #808000\">tzinfo</span>=<span style=\"color: #800080; text-decoration-color: #800080\">datetime</span>.timezone.utc<span style=\"font-weight: bold\">)</span>,\n",
       "            <span style=\"color: #808000; text-decoration-color: #808000\">version</span>=<span style=\"color: #008000; text-decoration-color: #008000\">'1.0'</span>,\n",
       "            <span style=\"color: #808000; text-decoration-color: #808000\">generation_datetime</span>=<span style=\"color: #800080; text-decoration-color: #800080; font-weight: bold\">datetime</span><span style=\"color: #800080; text-decoration-color: #800080; font-weight: bold\">.datetime</span><span style=\"font-weight: bold\">(</span><span style=\"color: #008080; text-decoration-color: #008080; font-weight: bold\">2025</span>, <span style=\"color: #008080; text-decoration-color: #008080; font-weight: bold\">4</span>, <span style=\"color: #008080; text-decoration-color: #008080; font-weight: bold\">8</span>, <span style=\"color: #008080; text-decoration-color: #008080; font-weight: bold\">16</span>, <span style=\"color: #008080; text-decoration-color: #008080; font-weight: bold\">35</span>, <span style=\"color: #008080; text-decoration-color: #008080; font-weight: bold\">12</span>, <span style=\"color: #808000; text-decoration-color: #808000\">tzinfo</span>=<span style=\"color: #800080; text-decoration-color: #800080\">datetime</span>.timezone.utc<span style=\"font-weight: bold\">)</span>\n",
       "        <span style=\"font-weight: bold\">)</span>,\n",
       "        <span style=\"color: #808000; text-decoration-color: #808000\">url</span>=<span style=\"color: #008000; text-decoration-color: #008000\">'https://datapool.asf.alaska.edu/DISP/OPERA-S1/OPERA_L3_DISP-S1_IW_F11116_VV_20160705T140755Z_20160729T</span>\n",
       "<span style=\"color: #008000; text-decoration-color: #008000\">140756Z_v1.0_20250408T163512Z.nc'</span>,\n",
       "        <span style=\"color: #808000; text-decoration-color: #808000\">orbit_pass</span>=<span style=\"font-weight: bold\">&lt;</span><span style=\"color: #ff00ff; text-decoration-color: #ff00ff; font-weight: bold\">OrbitPass.DESCENDING:</span><span style=\"color: #000000; text-decoration-color: #000000\"> </span><span style=\"color: #008000; text-decoration-color: #008000\">'DESCENDING'</span><span style=\"color: #000000; text-decoration-color: #000000\">&gt;</span>\n",
       "<span style=\"color: #000000; text-decoration-color: #000000\">    </span><span style=\"color: #000000; text-decoration-color: #000000; font-weight: bold\">)</span><span style=\"color: #000000; text-decoration-color: #000000\">,</span>\n",
       "<span style=\"color: #000000; text-decoration-color: #000000\">    </span><span style=\"color: #800080; text-decoration-color: #800080; font-weight: bold\">Granule</span><span style=\"color: #000000; text-decoration-color: #000000; font-weight: bold\">(</span>\n",
       "<span style=\"color: #000000; text-decoration-color: #000000\">        </span><span style=\"color: #808000; text-decoration-color: #808000\">product</span><span style=\"color: #000000; text-decoration-color: #000000\">=</span><span style=\"color: #800080; text-decoration-color: #800080; font-weight: bold\">DispProduct</span><span style=\"color: #000000; text-decoration-color: #000000; font-weight: bold\">(</span>\n",
       "<span style=\"color: #000000; text-decoration-color: #000000\">            </span><span style=\"color: #808000; text-decoration-color: #808000\">filename</span><span style=\"color: #000000; text-decoration-color: #000000\">=</span><span style=\"color: #008000; text-decoration-color: #008000\">'https://datapool.asf.alaska.edu/DISP/OPERA-S1/OPERA_L3_DISP-S1_IW_F11116_VV_20160705T140755Z_</span>\n",
       "<span style=\"color: #008000; text-decoration-color: #008000\">20160810T140757Z_v1.0_20250408T163512Z.nc'</span><span style=\"color: #000000; text-decoration-color: #000000\">,</span>\n",
       "<span style=\"color: #000000; text-decoration-color: #000000\">            </span><span style=\"color: #808000; text-decoration-color: #808000\">sensor</span><span style=\"color: #000000; text-decoration-color: #000000\">=</span><span style=\"color: #008000; text-decoration-color: #008000\">'S1'</span><span style=\"color: #000000; text-decoration-color: #000000\">,</span>\n",
       "<span style=\"color: #000000; text-decoration-color: #000000\">            </span><span style=\"color: #808000; text-decoration-color: #808000\">acquisition_mode</span><span style=\"color: #000000; text-decoration-color: #000000\">=</span><span style=\"color: #008000; text-decoration-color: #008000\">'IW'</span><span style=\"color: #000000; text-decoration-color: #000000\">,</span>\n",
       "<span style=\"color: #000000; text-decoration-color: #000000\">            </span><span style=\"color: #808000; text-decoration-color: #808000\">frame_id</span><span style=\"color: #000000; text-decoration-color: #000000\">=</span><span style=\"color: #008080; text-decoration-color: #008080; font-weight: bold\">11116</span><span style=\"color: #000000; text-decoration-color: #000000\">,</span>\n",
       "<span style=\"color: #000000; text-decoration-color: #000000\">            </span><span style=\"color: #808000; text-decoration-color: #808000\">polarization</span><span style=\"color: #000000; text-decoration-color: #000000\">=</span><span style=\"color: #008000; text-decoration-color: #008000\">'VV'</span><span style=\"color: #000000; text-decoration-color: #000000\">,</span>\n",
       "<span style=\"color: #000000; text-decoration-color: #000000\">            </span><span style=\"color: #808000; text-decoration-color: #808000\">reference_datetime</span><span style=\"color: #000000; text-decoration-color: #000000\">=</span><span style=\"color: #800080; text-decoration-color: #800080; font-weight: bold\">datetime</span><span style=\"color: #800080; text-decoration-color: #800080; font-weight: bold\">.datetime</span><span style=\"color: #000000; text-decoration-color: #000000; font-weight: bold\">(</span><span style=\"color: #008080; text-decoration-color: #008080; font-weight: bold\">2016</span><span style=\"color: #000000; text-decoration-color: #000000\">, </span><span style=\"color: #008080; text-decoration-color: #008080; font-weight: bold\">7</span><span style=\"color: #000000; text-decoration-color: #000000\">, </span><span style=\"color: #008080; text-decoration-color: #008080; font-weight: bold\">5</span><span style=\"color: #000000; text-decoration-color: #000000\">, </span><span style=\"color: #008080; text-decoration-color: #008080; font-weight: bold\">14</span><span style=\"color: #000000; text-decoration-color: #000000\">, </span><span style=\"color: #008080; text-decoration-color: #008080; font-weight: bold\">7</span><span style=\"color: #000000; text-decoration-color: #000000\">, </span><span style=\"color: #008080; text-decoration-color: #008080; font-weight: bold\">55</span><span style=\"color: #000000; text-decoration-color: #000000\">, </span><span style=\"color: #808000; text-decoration-color: #808000\">tzinfo</span><span style=\"color: #000000; text-decoration-color: #000000\">=</span><span style=\"color: #800080; text-decoration-color: #800080\">datetime</span><span style=\"color: #000000; text-decoration-color: #000000\">.timezone.utc</span><span style=\"color: #000000; text-decoration-color: #000000; font-weight: bold\">)</span><span style=\"color: #000000; text-decoration-color: #000000\">,</span>\n",
       "<span style=\"color: #000000; text-decoration-color: #000000\">            </span><span style=\"color: #808000; text-decoration-color: #808000\">secondary_datetime</span><span style=\"color: #000000; text-decoration-color: #000000\">=</span><span style=\"color: #800080; text-decoration-color: #800080; font-weight: bold\">datetime</span><span style=\"color: #800080; text-decoration-color: #800080; font-weight: bold\">.datetime</span><span style=\"color: #000000; text-decoration-color: #000000; font-weight: bold\">(</span><span style=\"color: #008080; text-decoration-color: #008080; font-weight: bold\">2016</span><span style=\"color: #000000; text-decoration-color: #000000\">, </span><span style=\"color: #008080; text-decoration-color: #008080; font-weight: bold\">8</span><span style=\"color: #000000; text-decoration-color: #000000\">, </span><span style=\"color: #008080; text-decoration-color: #008080; font-weight: bold\">10</span><span style=\"color: #000000; text-decoration-color: #000000\">, </span><span style=\"color: #008080; text-decoration-color: #008080; font-weight: bold\">14</span><span style=\"color: #000000; text-decoration-color: #000000\">, </span><span style=\"color: #008080; text-decoration-color: #008080; font-weight: bold\">7</span><span style=\"color: #000000; text-decoration-color: #000000\">, </span><span style=\"color: #008080; text-decoration-color: #008080; font-weight: bold\">57</span><span style=\"color: #000000; text-decoration-color: #000000\">, </span><span style=\"color: #808000; text-decoration-color: #808000\">tzinfo</span><span style=\"color: #000000; text-decoration-color: #000000\">=</span><span style=\"color: #800080; text-decoration-color: #800080\">datetime</span><span style=\"color: #000000; text-decoration-color: #000000\">.timezone.utc</span><span style=\"color: #000000; text-decoration-color: #000000; font-weight: bold\">)</span><span style=\"color: #000000; text-decoration-color: #000000\">,</span>\n",
       "<span style=\"color: #000000; text-decoration-color: #000000\">            </span><span style=\"color: #808000; text-decoration-color: #808000\">version</span><span style=\"color: #000000; text-decoration-color: #000000\">=</span><span style=\"color: #008000; text-decoration-color: #008000\">'1.0'</span><span style=\"color: #000000; text-decoration-color: #000000\">,</span>\n",
       "<span style=\"color: #000000; text-decoration-color: #000000\">            </span><span style=\"color: #808000; text-decoration-color: #808000\">generation_datetime</span><span style=\"color: #000000; text-decoration-color: #000000\">=</span><span style=\"color: #800080; text-decoration-color: #800080; font-weight: bold\">datetime</span><span style=\"color: #800080; text-decoration-color: #800080; font-weight: bold\">.datetime</span><span style=\"color: #000000; text-decoration-color: #000000; font-weight: bold\">(</span><span style=\"color: #008080; text-decoration-color: #008080; font-weight: bold\">2025</span><span style=\"color: #000000; text-decoration-color: #000000\">, </span><span style=\"color: #008080; text-decoration-color: #008080; font-weight: bold\">4</span><span style=\"color: #000000; text-decoration-color: #000000\">, </span><span style=\"color: #008080; text-decoration-color: #008080; font-weight: bold\">8</span><span style=\"color: #000000; text-decoration-color: #000000\">, </span><span style=\"color: #008080; text-decoration-color: #008080; font-weight: bold\">16</span><span style=\"color: #000000; text-decoration-color: #000000\">, </span><span style=\"color: #008080; text-decoration-color: #008080; font-weight: bold\">35</span><span style=\"color: #000000; text-decoration-color: #000000\">, </span><span style=\"color: #008080; text-decoration-color: #008080; font-weight: bold\">12</span><span style=\"color: #000000; text-decoration-color: #000000\">, </span><span style=\"color: #808000; text-decoration-color: #808000\">tzinfo</span><span style=\"color: #000000; text-decoration-color: #000000\">=</span><span style=\"color: #800080; text-decoration-color: #800080\">datetime</span><span style=\"color: #000000; text-decoration-color: #000000\">.timezone.utc</span><span style=\"color: #000000; text-decoration-color: #000000; font-weight: bold\">)</span>\n",
       "<span style=\"color: #000000; text-decoration-color: #000000\">        </span><span style=\"color: #000000; text-decoration-color: #000000; font-weight: bold\">)</span><span style=\"color: #000000; text-decoration-color: #000000\">,</span>\n",
       "<span style=\"color: #000000; text-decoration-color: #000000\">        </span><span style=\"color: #808000; text-decoration-color: #808000\">url</span><span style=\"color: #000000; text-decoration-color: #000000\">=</span><span style=\"color: #008000; text-decoration-color: #008000\">'https://datapool.asf.alaska.edu/DISP/OPERA-S1/OPERA_L3_DISP-S1_IW_F11116_VV_20160705T140755Z_20160810T</span>\n",
       "<span style=\"color: #008000; text-decoration-color: #008000\">140757Z_v1.0_20250408T163512Z.nc'</span><span style=\"color: #000000; text-decoration-color: #000000\">,</span>\n",
       "<span style=\"color: #000000; text-decoration-color: #000000\">        </span><span style=\"color: #808000; text-decoration-color: #808000\">orbit_pass</span><span style=\"color: #000000; text-decoration-color: #000000\">=&lt;OrbitPass.DESCENDING: </span><span style=\"color: #008000; text-decoration-color: #008000\">'DESCENDING'</span><span style=\"font-weight: bold\">&gt;</span>\n",
       "    <span style=\"font-weight: bold\">)</span>\n",
       "<span style=\"font-weight: bold\">]</span>\n",
       "</pre>\n"
      ],
      "text/plain": [
       "\u001b[1m[\u001b[0m\n",
       "    \u001b[1;35mGranule\u001b[0m\u001b[1m(\u001b[0m\n",
       "        \u001b[33mproduct\u001b[0m=\u001b[1;35mDispProduct\u001b[0m\u001b[1m(\u001b[0m\n",
       "            \u001b[33mfilename\u001b[0m=\u001b[32m'https://datapool.asf.alaska.edu/DISP/OPERA-S1/OPERA_L3_DISP-S1_IW_F11116_VV_20160705T140755Z_\u001b[0m\n",
       "\u001b[32m20160729T140756Z_v1.0_20250408T163512Z.nc'\u001b[0m,\n",
       "            \u001b[33msensor\u001b[0m=\u001b[32m'S1'\u001b[0m,\n",
       "            \u001b[33macquisition_mode\u001b[0m=\u001b[32m'IW'\u001b[0m,\n",
       "            \u001b[33mframe_id\u001b[0m=\u001b[1;36m11116\u001b[0m,\n",
       "            \u001b[33mpolarization\u001b[0m=\u001b[32m'VV'\u001b[0m,\n",
       "            \u001b[33mreference_datetime\u001b[0m=\u001b[1;35mdatetime\u001b[0m\u001b[1;35m.datetime\u001b[0m\u001b[1m(\u001b[0m\u001b[1;36m2016\u001b[0m, \u001b[1;36m7\u001b[0m, \u001b[1;36m5\u001b[0m, \u001b[1;36m14\u001b[0m, \u001b[1;36m7\u001b[0m, \u001b[1;36m55\u001b[0m, \u001b[33mtzinfo\u001b[0m=\u001b[35mdatetime\u001b[0m.timezone.utc\u001b[1m)\u001b[0m,\n",
       "            \u001b[33msecondary_datetime\u001b[0m=\u001b[1;35mdatetime\u001b[0m\u001b[1;35m.datetime\u001b[0m\u001b[1m(\u001b[0m\u001b[1;36m2016\u001b[0m, \u001b[1;36m7\u001b[0m, \u001b[1;36m29\u001b[0m, \u001b[1;36m14\u001b[0m, \u001b[1;36m7\u001b[0m, \u001b[1;36m56\u001b[0m, \u001b[33mtzinfo\u001b[0m=\u001b[35mdatetime\u001b[0m.timezone.utc\u001b[1m)\u001b[0m,\n",
       "            \u001b[33mversion\u001b[0m=\u001b[32m'1.0'\u001b[0m,\n",
       "            \u001b[33mgeneration_datetime\u001b[0m=\u001b[1;35mdatetime\u001b[0m\u001b[1;35m.datetime\u001b[0m\u001b[1m(\u001b[0m\u001b[1;36m2025\u001b[0m, \u001b[1;36m4\u001b[0m, \u001b[1;36m8\u001b[0m, \u001b[1;36m16\u001b[0m, \u001b[1;36m35\u001b[0m, \u001b[1;36m12\u001b[0m, \u001b[33mtzinfo\u001b[0m=\u001b[35mdatetime\u001b[0m.timezone.utc\u001b[1m)\u001b[0m\n",
       "        \u001b[1m)\u001b[0m,\n",
       "        \u001b[33murl\u001b[0m=\u001b[32m'https://datapool.asf.alaska.edu/DISP/OPERA-S1/OPERA_L3_DISP-S1_IW_F11116_VV_20160705T140755Z_20160729T\u001b[0m\n",
       "\u001b[32m140756Z_v1.0_20250408T163512Z.nc'\u001b[0m,\n",
       "        \u001b[33morbit_pass\u001b[0m=\u001b[1m<\u001b[0m\u001b[1;95mOrbitPass.DESCENDING:\u001b[0m\u001b[39m \u001b[0m\u001b[32m'DESCENDING'\u001b[0m\u001b[39m>\u001b[0m\n",
       "\u001b[39m    \u001b[0m\u001b[1;39m)\u001b[0m\u001b[39m,\u001b[0m\n",
       "\u001b[39m    \u001b[0m\u001b[1;35mGranule\u001b[0m\u001b[1;39m(\u001b[0m\n",
       "\u001b[39m        \u001b[0m\u001b[33mproduct\u001b[0m\u001b[39m=\u001b[0m\u001b[1;35mDispProduct\u001b[0m\u001b[1;39m(\u001b[0m\n",
       "\u001b[39m            \u001b[0m\u001b[33mfilename\u001b[0m\u001b[39m=\u001b[0m\u001b[32m'https://datapool.asf.alaska.edu/DISP/OPERA-S1/OPERA_L3_DISP-S1_IW_F11116_VV_20160705T140755Z_\u001b[0m\n",
       "\u001b[32m20160810T140757Z_v1.0_20250408T163512Z.nc'\u001b[0m\u001b[39m,\u001b[0m\n",
       "\u001b[39m            \u001b[0m\u001b[33msensor\u001b[0m\u001b[39m=\u001b[0m\u001b[32m'S1'\u001b[0m\u001b[39m,\u001b[0m\n",
       "\u001b[39m            \u001b[0m\u001b[33macquisition_mode\u001b[0m\u001b[39m=\u001b[0m\u001b[32m'IW'\u001b[0m\u001b[39m,\u001b[0m\n",
       "\u001b[39m            \u001b[0m\u001b[33mframe_id\u001b[0m\u001b[39m=\u001b[0m\u001b[1;36m11116\u001b[0m\u001b[39m,\u001b[0m\n",
       "\u001b[39m            \u001b[0m\u001b[33mpolarization\u001b[0m\u001b[39m=\u001b[0m\u001b[32m'VV'\u001b[0m\u001b[39m,\u001b[0m\n",
       "\u001b[39m            \u001b[0m\u001b[33mreference_datetime\u001b[0m\u001b[39m=\u001b[0m\u001b[1;35mdatetime\u001b[0m\u001b[1;35m.datetime\u001b[0m\u001b[1;39m(\u001b[0m\u001b[1;36m2016\u001b[0m\u001b[39m, \u001b[0m\u001b[1;36m7\u001b[0m\u001b[39m, \u001b[0m\u001b[1;36m5\u001b[0m\u001b[39m, \u001b[0m\u001b[1;36m14\u001b[0m\u001b[39m, \u001b[0m\u001b[1;36m7\u001b[0m\u001b[39m, \u001b[0m\u001b[1;36m55\u001b[0m\u001b[39m, \u001b[0m\u001b[33mtzinfo\u001b[0m\u001b[39m=\u001b[0m\u001b[35mdatetime\u001b[0m\u001b[39m.timezone.utc\u001b[0m\u001b[1;39m)\u001b[0m\u001b[39m,\u001b[0m\n",
       "\u001b[39m            \u001b[0m\u001b[33msecondary_datetime\u001b[0m\u001b[39m=\u001b[0m\u001b[1;35mdatetime\u001b[0m\u001b[1;35m.datetime\u001b[0m\u001b[1;39m(\u001b[0m\u001b[1;36m2016\u001b[0m\u001b[39m, \u001b[0m\u001b[1;36m8\u001b[0m\u001b[39m, \u001b[0m\u001b[1;36m10\u001b[0m\u001b[39m, \u001b[0m\u001b[1;36m14\u001b[0m\u001b[39m, \u001b[0m\u001b[1;36m7\u001b[0m\u001b[39m, \u001b[0m\u001b[1;36m57\u001b[0m\u001b[39m, \u001b[0m\u001b[33mtzinfo\u001b[0m\u001b[39m=\u001b[0m\u001b[35mdatetime\u001b[0m\u001b[39m.timezone.utc\u001b[0m\u001b[1;39m)\u001b[0m\u001b[39m,\u001b[0m\n",
       "\u001b[39m            \u001b[0m\u001b[33mversion\u001b[0m\u001b[39m=\u001b[0m\u001b[32m'1.0'\u001b[0m\u001b[39m,\u001b[0m\n",
       "\u001b[39m            \u001b[0m\u001b[33mgeneration_datetime\u001b[0m\u001b[39m=\u001b[0m\u001b[1;35mdatetime\u001b[0m\u001b[1;35m.datetime\u001b[0m\u001b[1;39m(\u001b[0m\u001b[1;36m2025\u001b[0m\u001b[39m, \u001b[0m\u001b[1;36m4\u001b[0m\u001b[39m, \u001b[0m\u001b[1;36m8\u001b[0m\u001b[39m, \u001b[0m\u001b[1;36m16\u001b[0m\u001b[39m, \u001b[0m\u001b[1;36m35\u001b[0m\u001b[39m, \u001b[0m\u001b[1;36m12\u001b[0m\u001b[39m, \u001b[0m\u001b[33mtzinfo\u001b[0m\u001b[39m=\u001b[0m\u001b[35mdatetime\u001b[0m\u001b[39m.timezone.utc\u001b[0m\u001b[1;39m)\u001b[0m\n",
       "\u001b[39m        \u001b[0m\u001b[1;39m)\u001b[0m\u001b[39m,\u001b[0m\n",
       "\u001b[39m        \u001b[0m\u001b[33murl\u001b[0m\u001b[39m=\u001b[0m\u001b[32m'https://datapool.asf.alaska.edu/DISP/OPERA-S1/OPERA_L3_DISP-S1_IW_F11116_VV_20160705T140755Z_20160810T\u001b[0m\n",
       "\u001b[32m140757Z_v1.0_20250408T163512Z.nc'\u001b[0m\u001b[39m,\u001b[0m\n",
       "\u001b[39m        \u001b[0m\u001b[33morbit_pass\u001b[0m\u001b[39m=<OrbitPass.DESCENDING: \u001b[0m\u001b[32m'DESCENDING'\u001b[0m\u001b[1m>\u001b[0m\n",
       "    \u001b[1m)\u001b[0m\n",
       "\u001b[1m]\u001b[0m\n"
      ]
     },
     "metadata": {},
     "output_type": "display_data"
    }
   ],
   "source": [
    "granules = opera_utils.disp.search.get_products(frame_id=frame_id, url_type=url_type)\n",
    "granules = sorted(granules, key=lambda g:g.product.secondary_datetime)\n",
    "print(f\"Found {len(granules) = } for {frame_id = }\")\n",
    "print(granules[:2])"
   ]
  },
  {
   "cell_type": "code",
   "execution_count": 3,
   "id": "7c5f8218-9fa1-4467-9acf-a2e857ab7597",
   "metadata": {
    "editable": true,
    "slideshow": {
     "slide_type": ""
    },
    "tags": []
   },
   "outputs": [],
   "source": [
    "data_dir = work_dir / \"ncs\"\n",
    "data_dir.mkdir(exist_ok=True, parents=True)"
   ]
  },
  {
   "cell_type": "code",
   "execution_count": 20,
   "id": "24228138-4fcf-4d92-a80e-48aa26bcd328",
   "metadata": {
    "editable": true,
    "slideshow": {
     "slide_type": ""
    },
    "tags": []
   },
   "outputs": [],
   "source": [
    "import pathlib\n",
    "\n",
    "import requests\n",
    "from tqdm.contrib.concurrent import process_map\n",
    "\n",
    "\n",
    "def download_url(url_info: tuple[str, pathlib.Path]) -> pathlib.Path:\n",
    "    \"\"\"Download a file from a URL to a specified path.\n",
    "\n",
    "    Args:\n",
    "        url_info: tuple containing the URL and output directory path\n",
    "\n",
    "    Returns:\n",
    "        Path to the downloaded file\n",
    "    \"\"\"\n",
    "    url, output_dir = url_info\n",
    "    out_path = output_dir / pathlib.Path(url).name\n",
    "    if out_path.exists():\n",
    "        return out_path\n",
    "    response = requests.get(url, stream=True)\n",
    "    response.raise_for_status()\n",
    "\n",
    "    with open(out_path, \"wb\") as f:\n",
    "        for chunk in response.iter_content(chunk_size=8192):\n",
    "            f.write(chunk)\n",
    "\n",
    "    return out_path\n",
    "\n",
    "\n",
    "def download_urls(\n",
    "    urls: list[str], output_path: pathlib.Path, max_workers: int = 4\n",
    ") -> list[pathlib.Path]:\n",
    "    \"\"\"Download multiple URLs in parallel with a progress bar.\n",
    "\n",
    "    Args:\n",
    "        urls: list of URLs to download\n",
    "        output_path: Directory where files will be saved\n",
    "        max_workers: Maximum number of parallel processes\n",
    "\n",
    "    Returns:\n",
    "        list of paths to the downloaded files\n",
    "    \"\"\"\n",
    "    # Make sure the output directory exists\n",
    "    output_path.mkdir(exist_ok=True, parents=True)\n",
    "\n",
    "    # Prepare input for the download function (url and output path)\n",
    "    url_infos = [(url, output_path) for url in urls]\n",
    "\n",
    "    # Download files in parallel with progress bar\n",
    "    results = process_map(\n",
    "        download_url,\n",
    "        url_infos,\n",
    "        max_workers=max_workers,\n",
    "        desc=\"Downloading files\",\n",
    "        unit=\"file\",\n",
    "    )\n",
    "\n",
    "    return results\n"
   ]
  },
  {
   "cell_type": "code",
   "execution_count": 12,
   "id": "774312c5-0127-4d17-b413-794b11ecafbf",
   "metadata": {
    "collapsed": true,
    "editable": true,
    "jupyter": {
     "outputs_hidden": true
    },
    "slideshow": {
     "slide_type": ""
    },
    "tags": []
   },
   "outputs": [
    {
     "data": {
      "application/vnd.jupyter.widget-view+json": {
       "model_id": "eaaa73640eca4c989d7e3b10137cb490",
       "version_major": 2,
       "version_minor": 0
      },
      "text/plain": [
       "Downloading files:   0%|          | 0/299 [00:00<?, ?file/s]"
      ]
     },
     "metadata": {},
     "output_type": "display_data"
    },
    {
     "name": "stdout",
     "output_type": "stream",
     "text": [
      "CPU times: user 470 ms, sys: 233 ms, total: 703 ms\n",
      "Wall time: 11min 51s\n"
     ]
    },
    {
     "data": {
      "text/html": [
       "<pre style=\"white-space:pre;overflow-x:auto;line-height:normal;font-family:Menlo,'DejaVu Sans Mono',consolas,'Courier New',monospace\"></pre>\n"
      ],
      "text/plain": []
     },
     "metadata": {},
     "output_type": "display_data"
    },
    {
     "data": {
      "text/plain": [
       "\n",
       "\u001b[1m[\u001b[0m\n",
       "    \u001b[1;35mPosixPath\u001b[0m\u001b[1m(\u001b[0m\u001b[32m'/home/staniewi/dev/disp-production-data/descending/F11116/ncs/OPERA_L3_DISP-S1_IW_F11116_VV_20160705T140755Z_20160729T140756Z_v1.0_20250408T163512Z.nc'\u001b[0m\u001b[1m)\u001b[0m,\n",
       "    \u001b[1;35mPosixPath\u001b[0m\u001b[1m(\u001b[0m\u001b[32m'/home/staniewi/dev/disp-production-data/descending/F11116/ncs/OPERA_L3_DISP-S1_IW_F11116_VV_20160705T140755Z_20160810T140757Z_v1.0_20250408T163512Z.nc'\u001b[0m\u001b[1m)\u001b[0m,\n",
       "    \u001b[1;35mPosixPath\u001b[0m\u001b[1m(\u001b[0m\u001b[32m'/home/staniewi/dev/disp-production-data/descending/F11116/ncs/OPERA_L3_DISP-S1_IW_F11116_VV_20160705T140755Z_20160822T140758Z_v1.0_20250408T163512Z.nc'\u001b[0m\u001b[1m)\u001b[0m,\n",
       "    \u001b[1;35mPosixPath\u001b[0m\u001b[1m(\u001b[0m\u001b[32m'/home/staniewi/dev/disp-production-data/descending/F11116/ncs/OPERA_L3_DISP-S1_IW_F11116_VV_20160705T140755Z_20160903T140758Z_v1.0_20250408T163512Z.nc'\u001b[0m\u001b[1m)\u001b[0m,\n",
       "    \u001b[1;35mPosixPath\u001b[0m\u001b[1m(\u001b[0m\u001b[32m'/home/staniewi/dev/disp-production-data/descending/F11116/ncs/OPERA_L3_DISP-S1_IW_F11116_VV_20160705T140755Z_20160915T140759Z_v1.0_20250408T163512Z.nc'\u001b[0m\u001b[1m)\u001b[0m,\n",
       "    \u001b[1;35mPosixPath\u001b[0m\u001b[1m(\u001b[0m\u001b[32m'/home/staniewi/dev/disp-production-data/descending/F11116/ncs/OPERA_L3_DISP-S1_IW_F11116_VV_20160705T140755Z_20160927T140759Z_v1.0_20250408T163512Z.nc'\u001b[0m\u001b[1m)\u001b[0m,\n",
       "    \u001b[1;35mPosixPath\u001b[0m\u001b[1m(\u001b[0m\u001b[32m'/home/staniewi/dev/disp-production-data/descending/F11116/ncs/OPERA_L3_DISP-S1_IW_F11116_VV_20160705T140755Z_20161009T140759Z_v1.0_20250408T163512Z.nc'\u001b[0m\u001b[1m)\u001b[0m,\n",
       "    \u001b[1;35mPosixPath\u001b[0m\u001b[1m(\u001b[0m\u001b[32m'/home/staniewi/dev/disp-production-data/descending/F11116/ncs/OPERA_L3_DISP-S1_IW_F11116_VV_20160705T140755Z_20161021T140759Z_v1.0_20250408T163512Z.nc'\u001b[0m\u001b[1m)\u001b[0m,\n",
       "    \u001b[1;35mPosixPath\u001b[0m\u001b[1m(\u001b[0m\u001b[32m'/home/staniewi/dev/disp-production-data/descending/F11116/ncs/OPERA_L3_DISP-S1_IW_F11116_VV_20160705T140755Z_20161102T140759Z_v1.0_20250408T163512Z.nc'\u001b[0m\u001b[1m)\u001b[0m,\n",
       "    \u001b[1;35mPosixPath\u001b[0m\u001b[1m(\u001b[0m\u001b[32m'/home/staniewi/dev/disp-production-data/descending/F11116/ncs/OPERA_L3_DISP-S1_IW_F11116_VV_20160705T140755Z_20161114T140759Z_v1.0_20250408T163512Z.nc'\u001b[0m\u001b[1m)\u001b[0m,\n",
       "    \u001b[1;35mPosixPath\u001b[0m\u001b[1m(\u001b[0m\u001b[32m'/home/staniewi/dev/disp-production-data/descending/F11116/ncs/OPERA_L3_DISP-S1_IW_F11116_VV_20160705T140755Z_20161126T140759Z_v1.0_20250408T163512Z.nc'\u001b[0m\u001b[1m)\u001b[0m,\n",
       "    \u001b[1;35mPosixPath\u001b[0m\u001b[1m(\u001b[0m\u001b[32m'/home/staniewi/dev/disp-production-data/descending/F11116/ncs/OPERA_L3_DISP-S1_IW_F11116_VV_20160705T140755Z_20161208T140758Z_v1.0_20250408T163512Z.nc'\u001b[0m\u001b[1m)\u001b[0m,\n",
       "    \u001b[1;35mPosixPath\u001b[0m\u001b[1m(\u001b[0m\u001b[32m'/home/staniewi/dev/disp-production-data/descending/F11116/ncs/OPERA_L3_DISP-S1_IW_F11116_VV_20160705T140755Z_20161220T140758Z_v1.0_20250408T163512Z.nc'\u001b[0m\u001b[1m)\u001b[0m,\n",
       "    \u001b[1;35mPosixPath\u001b[0m\u001b[1m(\u001b[0m\u001b[32m'/home/staniewi/dev/disp-production-data/descending/F11116/ncs/OPERA_L3_DISP-S1_IW_F11116_VV_20160705T140755Z_20170101T140756Z_v1.0_20250408T163512Z.nc'\u001b[0m\u001b[1m)\u001b[0m,\n",
       "    \u001b[1;35mPosixPath\u001b[0m\u001b[1m(\u001b[0m\u001b[32m'/home/staniewi/dev/disp-production-data/descending/F11116/ncs/OPERA_L3_DISP-S1_IW_F11116_VV_20170101T140756Z_20170113T140756Z_v1.0_20250408T214407Z.nc'\u001b[0m\u001b[1m)\u001b[0m,\n",
       "    \u001b[1;35mPosixPath\u001b[0m\u001b[1m(\u001b[0m\u001b[32m'/home/staniewi/dev/disp-production-data/descending/F11116/ncs/OPERA_L3_DISP-S1_IW_F11116_VV_20170101T140756Z_20170119T140714Z_v1.0_20250408T214407Z.nc'\u001b[0m\u001b[1m)\u001b[0m,\n",
       "    \u001b[1;35mPosixPath\u001b[0m\u001b[1m(\u001b[0m\u001b[32m'/home/staniewi/dev/disp-production-data/descending/F11116/ncs/OPERA_L3_DISP-S1_IW_F11116_VV_20170101T140756Z_20170125T140756Z_v1.0_20250408T214407Z.nc'\u001b[0m\u001b[1m)\u001b[0m,\n",
       "    \u001b[1;35mPosixPath\u001b[0m\u001b[1m(\u001b[0m\u001b[32m'/home/staniewi/dev/disp-production-data/descending/F11116/ncs/OPERA_L3_DISP-S1_IW_F11116_VV_20170101T140756Z_20170206T140755Z_v1.0_20250408T214407Z.nc'\u001b[0m\u001b[1m)\u001b[0m,\n",
       "    \u001b[1;35mPosixPath\u001b[0m\u001b[1m(\u001b[0m\u001b[32m'/home/staniewi/dev/disp-production-data/descending/F11116/ncs/OPERA_L3_DISP-S1_IW_F11116_VV_20170101T140756Z_20170218T140755Z_v1.0_20250408T214407Z.nc'\u001b[0m\u001b[1m)\u001b[0m,\n",
       "    \u001b[1;35mPosixPath\u001b[0m\u001b[1m(\u001b[0m\u001b[32m'/home/staniewi/dev/disp-production-data/descending/F11116/ncs/OPERA_L3_DISP-S1_IW_F11116_VV_20170101T140756Z_20170302T140755Z_v1.0_20250408T214407Z.nc'\u001b[0m\u001b[1m)\u001b[0m,\n",
       "    \u001b[1;35mPosixPath\u001b[0m\u001b[1m(\u001b[0m\u001b[32m'/home/staniewi/dev/disp-production-data/descending/F11116/ncs/OPERA_L3_DISP-S1_IW_F11116_VV_20170101T140756Z_20170326T140755Z_v1.0_20250408T214407Z.nc'\u001b[0m\u001b[1m)\u001b[0m,\n",
       "    \u001b[1;35mPosixPath\u001b[0m\u001b[1m(\u001b[0m\u001b[32m'/home/staniewi/dev/disp-production-data/descending/F11116/ncs/OPERA_L3_DISP-S1_IW_F11116_VV_20170101T140756Z_20170407T140756Z_v1.0_20250408T214407Z.nc'\u001b[0m\u001b[1m)\u001b[0m,\n",
       "    \u001b[1;35mPosixPath\u001b[0m\u001b[1m(\u001b[0m\u001b[32m'/home/staniewi/dev/disp-production-data/descending/F11116/ncs/OPERA_L3_DISP-S1_IW_F11116_VV_20170101T140756Z_20170419T140757Z_v1.0_20250408T214407Z.nc'\u001b[0m\u001b[1m)\u001b[0m,\n",
       "    \u001b[1;35mPosixPath\u001b[0m\u001b[1m(\u001b[0m\u001b[32m'/home/staniewi/dev/disp-production-data/descending/F11116/ncs/OPERA_L3_DISP-S1_IW_F11116_VV_20170101T140756Z_20170501T140757Z_v1.0_20250408T214407Z.nc'\u001b[0m\u001b[1m)\u001b[0m,\n",
       "    \u001b[1;35mPosixPath\u001b[0m\u001b[1m(\u001b[0m\u001b[32m'/home/staniewi/dev/disp-production-data/descending/F11116/ncs/OPERA_L3_DISP-S1_IW_F11116_VV_20170101T140756Z_20170513T140758Z_v1.0_20250408T214407Z.nc'\u001b[0m\u001b[1m)\u001b[0m,\n",
       "    \u001b[1;35mPosixPath\u001b[0m\u001b[1m(\u001b[0m\u001b[32m'/home/staniewi/dev/disp-production-data/descending/F11116/ncs/OPERA_L3_DISP-S1_IW_F11116_VV_20170101T140756Z_20170606T140759Z_v1.0_20250408T214407Z.nc'\u001b[0m\u001b[1m)\u001b[0m,\n",
       "    \u001b[1;35mPosixPath\u001b[0m\u001b[1m(\u001b[0m\u001b[32m'/home/staniewi/dev/disp-production-data/descending/F11116/ncs/OPERA_L3_DISP-S1_IW_F11116_VV_20170101T140756Z_20170618T140800Z_v1.0_20250408T214407Z.nc'\u001b[0m\u001b[1m)\u001b[0m,\n",
       "    \u001b[1;35mPosixPath\u001b[0m\u001b[1m(\u001b[0m\u001b[32m'/home/staniewi/dev/disp-production-data/descending/F11116/ncs/OPERA_L3_DISP-S1_IW_F11116_VV_20170101T140756Z_20170630T140800Z_v1.0_20250408T214407Z.nc'\u001b[0m\u001b[1m)\u001b[0m,\n",
       "    \u001b[1;35mPosixPath\u001b[0m\u001b[1m(\u001b[0m\u001b[32m'/home/staniewi/dev/disp-production-data/descending/F11116/ncs/OPERA_L3_DISP-S1_IW_F11116_VV_20170101T140756Z_20170712T140801Z_v1.0_20250408T214407Z.nc'\u001b[0m\u001b[1m)\u001b[0m,\n",
       "    \u001b[1;35mPosixPath\u001b[0m\u001b[1m(\u001b[0m\u001b[32m'/home/staniewi/dev/disp-production-data/descending/F11116/ncs/OPERA_L3_DISP-S1_IW_F11116_VV_20170712T140801Z_20170724T140802Z_v1.0_20250409T033628Z.nc'\u001b[0m\u001b[1m)\u001b[0m,\n",
       "    \u001b[1;35mPosixPath\u001b[0m\u001b[1m(\u001b[0m\u001b[32m'/home/staniewi/dev/disp-production-data/descending/F11116/ncs/OPERA_L3_DISP-S1_IW_F11116_VV_20170712T140801Z_20170805T140802Z_v1.0_20250409T033628Z.nc'\u001b[0m\u001b[1m)\u001b[0m,\n",
       "    \u001b[1;35mPosixPath\u001b[0m\u001b[1m(\u001b[0m\u001b[32m'/home/staniewi/dev/disp-production-data/descending/F11116/ncs/OPERA_L3_DISP-S1_IW_F11116_VV_20170712T140801Z_20170817T140803Z_v1.0_20250409T033628Z.nc'\u001b[0m\u001b[1m)\u001b[0m,\n",
       "    \u001b[1;35mPosixPath\u001b[0m\u001b[1m(\u001b[0m\u001b[32m'/home/staniewi/dev/disp-production-data/descending/F11116/ncs/OPERA_L3_DISP-S1_IW_F11116_VV_20170712T140801Z_20170910T140804Z_v1.0_20250409T033628Z.nc'\u001b[0m\u001b[1m)\u001b[0m,\n",
       "    \u001b[1;35mPosixPath\u001b[0m\u001b[1m(\u001b[0m\u001b[32m'/home/staniewi/dev/disp-production-data/descending/F11116/ncs/OPERA_L3_DISP-S1_IW_F11116_VV_20170712T140801Z_20171004T140805Z_v1.0_20250409T033628Z.nc'\u001b[0m\u001b[1m)\u001b[0m,\n",
       "    \u001b[1;35mPosixPath\u001b[0m\u001b[1m(\u001b[0m\u001b[32m'/home/staniewi/dev/disp-production-data/descending/F11116/ncs/OPERA_L3_DISP-S1_IW_F11116_VV_20170712T140801Z_20171016T140805Z_v1.0_20250409T033628Z.nc'\u001b[0m\u001b[1m)\u001b[0m,\n",
       "    \u001b[1;35mPosixPath\u001b[0m\u001b[1m(\u001b[0m\u001b[32m'/home/staniewi/dev/disp-production-data/descending/F11116/ncs/OPERA_L3_DISP-S1_IW_F11116_VV_20170712T140801Z_20171028T140805Z_v1.0_20250409T033628Z.nc'\u001b[0m\u001b[1m)\u001b[0m,\n",
       "    \u001b[1;35mPosixPath\u001b[0m\u001b[1m(\u001b[0m\u001b[32m'/home/staniewi/dev/disp-production-data/descending/F11116/ncs/OPERA_L3_DISP-S1_IW_F11116_VV_20170712T140801Z_20171109T140805Z_v1.0_20250409T033628Z.nc'\u001b[0m\u001b[1m)\u001b[0m,\n",
       "    \u001b[1;35mPosixPath\u001b[0m\u001b[1m(\u001b[0m\u001b[32m'/home/staniewi/dev/disp-production-data/descending/F11116/ncs/OPERA_L3_DISP-S1_IW_F11116_VV_20170712T140801Z_20171121T140805Z_v1.0_20250409T033628Z.nc'\u001b[0m\u001b[1m)\u001b[0m,\n",
       "    \u001b[1;35mPosixPath\u001b[0m\u001b[1m(\u001b[0m\u001b[32m'/home/staniewi/dev/disp-production-data/descending/F11116/ncs/OPERA_L3_DISP-S1_IW_F11116_VV_20170712T140801Z_20171203T140804Z_v1.0_20250409T033628Z.nc'\u001b[0m\u001b[1m)\u001b[0m,\n",
       "    \u001b[1;35mPosixPath\u001b[0m\u001b[1m(\u001b[0m\u001b[32m'/home/staniewi/dev/disp-production-data/descending/F11116/ncs/OPERA_L3_DISP-S1_IW_F11116_VV_20170712T140801Z_20171215T140804Z_v1.0_20250409T033628Z.nc'\u001b[0m\u001b[1m)\u001b[0m,\n",
       "    \u001b[1;35mPosixPath\u001b[0m\u001b[1m(\u001b[0m\u001b[32m'/home/staniewi/dev/disp-production-data/descending/F11116/ncs/OPERA_L3_DISP-S1_IW_F11116_VV_20170712T140801Z_20171227T140803Z_v1.0_20250409T033628Z.nc'\u001b[0m\u001b[1m)\u001b[0m,\n",
       "    \u001b[1;35mPosixPath\u001b[0m\u001b[1m(\u001b[0m\u001b[32m'/home/staniewi/dev/disp-production-data/descending/F11116/ncs/OPERA_L3_DISP-S1_IW_F11116_VV_20170712T140801Z_20180108T140803Z_v1.0_20250409T033628Z.nc'\u001b[0m\u001b[1m)\u001b[0m,\n",
       "    \u001b[1;35mPosixPath\u001b[0m\u001b[1m(\u001b[0m\u001b[32m'/home/staniewi/dev/disp-production-data/descending/F11116/ncs/OPERA_L3_DISP-S1_IW_F11116_VV_20170712T140801Z_20180120T140802Z_v1.0_20250409T033628Z.nc'\u001b[0m\u001b[1m)\u001b[0m,\n",
       "    \u001b[1;35mPosixPath\u001b[0m\u001b[1m(\u001b[0m\u001b[32m'/home/staniewi/dev/disp-production-data/descending/F11116/ncs/OPERA_L3_DISP-S1_IW_F11116_VV_20170712T140801Z_20180201T140802Z_v1.0_20250409T033628Z.nc'\u001b[0m\u001b[1m)\u001b[0m,\n",
       "    \u001b[1;35mPosixPath\u001b[0m\u001b[1m(\u001b[0m\u001b[32m'/home/staniewi/dev/disp-production-data/descending/F11116/ncs/OPERA_L3_DISP-S1_IW_F11116_VV_20180201T140802Z_20180213T140802Z_v1.0_20250409T092959Z.nc'\u001b[0m\u001b[1m)\u001b[0m,\n",
       "    \u001b[1;35mPosixPath\u001b[0m\u001b[1m(\u001b[0m\u001b[32m'/home/staniewi/dev/disp-production-data/descending/F11116/ncs/OPERA_L3_DISP-S1_IW_F11116_VV_20180201T140802Z_20180225T140802Z_v1.0_20250409T092959Z.nc'\u001b[0m\u001b[1m)\u001b[0m,\n",
       "    \u001b[1;35mPosixPath\u001b[0m\u001b[1m(\u001b[0m\u001b[32m'/home/staniewi/dev/disp-production-data/descending/F11116/ncs/OPERA_L3_DISP-S1_IW_F11116_VV_20180201T140802Z_20180321T140802Z_v1.0_20250409T092959Z.nc'\u001b[0m\u001b[1m)\u001b[0m,\n",
       "    \u001b[1;35mPosixPath\u001b[0m\u001b[1m(\u001b[0m\u001b[32m'/home/staniewi/dev/disp-production-data/descending/F11116/ncs/OPERA_L3_DISP-S1_IW_F11116_VV_20180201T140802Z_20180402T140802Z_v1.0_20250409T092959Z.nc'\u001b[0m\u001b[1m)\u001b[0m,\n",
       "    \u001b[1;35mPosixPath\u001b[0m\u001b[1m(\u001b[0m\u001b[32m'/home/staniewi/dev/disp-production-data/descending/F11116/ncs/OPERA_L3_DISP-S1_IW_F11116_VV_20180201T140802Z_20180414T140803Z_v1.0_20250409T092959Z.nc'\u001b[0m\u001b[1m)\u001b[0m,\n",
       "    \u001b[1;35mPosixPath\u001b[0m\u001b[1m(\u001b[0m\u001b[32m'/home/staniewi/dev/disp-production-data/descending/F11116/ncs/OPERA_L3_DISP-S1_IW_F11116_VV_20180201T140802Z_20180426T140803Z_v1.0_20250409T092959Z.nc'\u001b[0m\u001b[1m)\u001b[0m,\n",
       "    \u001b[1;35mPosixPath\u001b[0m\u001b[1m(\u001b[0m\u001b[32m'/home/staniewi/dev/disp-production-data/descending/F11116/ncs/OPERA_L3_DISP-S1_IW_F11116_VV_20180201T140802Z_20180508T140804Z_v1.0_20250409T092959Z.nc'\u001b[0m\u001b[1m)\u001b[0m,\n",
       "    \u001b[1;35mPosixPath\u001b[0m\u001b[1m(\u001b[0m\u001b[32m'/home/staniewi/dev/disp-production-data/descending/F11116/ncs/OPERA_L3_DISP-S1_IW_F11116_VV_20180201T140802Z_20180520T140804Z_v1.0_20250409T092959Z.nc'\u001b[0m\u001b[1m)\u001b[0m,\n",
       "    \u001b[1;35mPosixPath\u001b[0m\u001b[1m(\u001b[0m\u001b[32m'/home/staniewi/dev/disp-production-data/descending/F11116/ncs/OPERA_L3_DISP-S1_IW_F11116_VV_20180201T140802Z_20180601T140805Z_v1.0_20250409T092959Z.nc'\u001b[0m\u001b[1m)\u001b[0m,\n",
       "    \u001b[1;35mPosixPath\u001b[0m\u001b[1m(\u001b[0m\u001b[32m'/home/staniewi/dev/disp-production-data/descending/F11116/ncs/OPERA_L3_DISP-S1_IW_F11116_VV_20180201T140802Z_20180613T140806Z_v1.0_20250409T092959Z.nc'\u001b[0m\u001b[1m)\u001b[0m,\n",
       "    \u001b[1;35mPosixPath\u001b[0m\u001b[1m(\u001b[0m\u001b[32m'/home/staniewi/dev/disp-production-data/descending/F11116/ncs/OPERA_L3_DISP-S1_IW_F11116_VV_20180201T140802Z_20180625T140807Z_v1.0_20250409T092959Z.nc'\u001b[0m\u001b[1m)\u001b[0m,\n",
       "    \u001b[1;35mPosixPath\u001b[0m\u001b[1m(\u001b[0m\u001b[32m'/home/staniewi/dev/disp-production-data/descending/F11116/ncs/OPERA_L3_DISP-S1_IW_F11116_VV_20180201T140802Z_20180707T140807Z_v1.0_20250409T092959Z.nc'\u001b[0m\u001b[1m)\u001b[0m,\n",
       "    \u001b[1;35mPosixPath\u001b[0m\u001b[1m(\u001b[0m\u001b[32m'/home/staniewi/dev/disp-production-data/descending/F11116/ncs/OPERA_L3_DISP-S1_IW_F11116_VV_20180201T140802Z_20180719T140808Z_v1.0_20250409T092959Z.nc'\u001b[0m\u001b[1m)\u001b[0m,\n",
       "    \u001b[1;35mPosixPath\u001b[0m\u001b[1m(\u001b[0m\u001b[32m'/home/staniewi/dev/disp-production-data/descending/F11116/ncs/OPERA_L3_DISP-S1_IW_F11116_VV_20180201T140802Z_20180731T140809Z_v1.0_20250409T092959Z.nc'\u001b[0m\u001b[1m)\u001b[0m,\n",
       "    \u001b[1;35mPosixPath\u001b[0m\u001b[1m(\u001b[0m\u001b[32m'/home/staniewi/dev/disp-production-data/descending/F11116/ncs/OPERA_L3_DISP-S1_IW_F11116_VV_20180201T140802Z_20180812T140809Z_v1.0_20250409T092959Z.nc'\u001b[0m\u001b[1m)\u001b[0m,\n",
       "    \u001b[1;35mPosixPath\u001b[0m\u001b[1m(\u001b[0m\u001b[32m'/home/staniewi/dev/disp-production-data/descending/F11116/ncs/OPERA_L3_DISP-S1_IW_F11116_VV_20180812T140809Z_20180824T140810Z_v1.0_20250409T151738Z.nc'\u001b[0m\u001b[1m)\u001b[0m,\n",
       "    \u001b[1;35mPosixPath\u001b[0m\u001b[1m(\u001b[0m\u001b[32m'/home/staniewi/dev/disp-production-data/descending/F11116/ncs/OPERA_L3_DISP-S1_IW_F11116_VV_20180812T140809Z_20180905T140811Z_v1.0_20250409T151738Z.nc'\u001b[0m\u001b[1m)\u001b[0m,\n",
       "    \u001b[1;35mPosixPath\u001b[0m\u001b[1m(\u001b[0m\u001b[32m'/home/staniewi/dev/disp-production-data/descending/F11116/ncs/OPERA_L3_DISP-S1_IW_F11116_VV_20180812T140809Z_20180917T140811Z_v1.0_20250409T151738Z.nc'\u001b[0m\u001b[1m)\u001b[0m,\n",
       "    \u001b[1;35mPosixPath\u001b[0m\u001b[1m(\u001b[0m\u001b[32m'/home/staniewi/dev/disp-production-data/descending/F11116/ncs/OPERA_L3_DISP-S1_IW_F11116_VV_20180812T140809Z_20180929T140811Z_v1.0_20250409T151738Z.nc'\u001b[0m\u001b[1m)\u001b[0m,\n",
       "    \u001b[1;35mPosixPath\u001b[0m\u001b[1m(\u001b[0m\u001b[32m'/home/staniewi/dev/disp-production-data/descending/F11116/ncs/OPERA_L3_DISP-S1_IW_F11116_VV_20180812T140809Z_20181011T140812Z_v1.0_20250409T151738Z.nc'\u001b[0m\u001b[1m)\u001b[0m,\n",
       "    \u001b[1;35mPosixPath\u001b[0m\u001b[1m(\u001b[0m\u001b[32m'/home/staniewi/dev/disp-production-data/descending/F11116/ncs/OPERA_L3_DISP-S1_IW_F11116_VV_20180812T140809Z_20181023T140812Z_v1.0_20250409T151738Z.nc'\u001b[0m\u001b[1m)\u001b[0m,\n",
       "    \u001b[1;35mPosixPath\u001b[0m\u001b[1m(\u001b[0m\u001b[32m'/home/staniewi/dev/disp-production-data/descending/F11116/ncs/OPERA_L3_DISP-S1_IW_F11116_VV_20180812T140809Z_20181104T140811Z_v1.0_20250409T151738Z.nc'\u001b[0m\u001b[1m)\u001b[0m,\n",
       "    \u001b[1;35mPosixPath\u001b[0m\u001b[1m(\u001b[0m\u001b[32m'/home/staniewi/dev/disp-production-data/descending/F11116/ncs/OPERA_L3_DISP-S1_IW_F11116_VV_20180812T140809Z_20181116T140811Z_v1.0_20250409T151738Z.nc'\u001b[0m\u001b[1m)\u001b[0m,\n",
       "    \u001b[1;35mPosixPath\u001b[0m\u001b[1m(\u001b[0m\u001b[32m'/home/staniewi/dev/disp-production-data/descending/F11116/ncs/OPERA_L3_DISP-S1_IW_F11116_VV_20180812T140809Z_20181128T140811Z_v1.0_20250409T151738Z.nc'\u001b[0m\u001b[1m)\u001b[0m,\n",
       "    \u001b[1;35mPosixPath\u001b[0m\u001b[1m(\u001b[0m\u001b[32m'/home/staniewi/dev/disp-production-data/descending/F11116/ncs/OPERA_L3_DISP-S1_IW_F11116_VV_20180812T140809Z_20181210T140810Z_v1.0_20250409T151738Z.nc'\u001b[0m\u001b[1m)\u001b[0m,\n",
       "    \u001b[1;35mPosixPath\u001b[0m\u001b[1m(\u001b[0m\u001b[32m'/home/staniewi/dev/disp-production-data/descending/F11116/ncs/OPERA_L3_DISP-S1_IW_F11116_VV_20180812T140809Z_20181222T140810Z_v1.0_20250409T151738Z.nc'\u001b[0m\u001b[1m)\u001b[0m,\n",
       "    \u001b[1;35mPosixPath\u001b[0m\u001b[1m(\u001b[0m\u001b[32m'/home/staniewi/dev/disp-production-data/descending/F11116/ncs/OPERA_L3_DISP-S1_IW_F11116_VV_20180812T140809Z_20190103T140810Z_v1.0_20250409T151738Z.nc'\u001b[0m\u001b[1m)\u001b[0m,\n",
       "    \u001b[1;35mPosixPath\u001b[0m\u001b[1m(\u001b[0m\u001b[32m'/home/staniewi/dev/disp-production-data/descending/F11116/ncs/OPERA_L3_DISP-S1_IW_F11116_VV_20180812T140809Z_20190115T140809Z_v1.0_20250409T151738Z.nc'\u001b[0m\u001b[1m)\u001b[0m,\n",
       "    \u001b[1;35mPosixPath\u001b[0m\u001b[1m(\u001b[0m\u001b[32m'/home/staniewi/dev/disp-production-data/descending/F11116/ncs/OPERA_L3_DISP-S1_IW_F11116_VV_20180812T140809Z_20190127T140809Z_v1.0_20250409T151738Z.nc'\u001b[0m\u001b[1m)\u001b[0m,\n",
       "    \u001b[1;35mPosixPath\u001b[0m\u001b[1m(\u001b[0m\u001b[32m'/home/staniewi/dev/disp-production-data/descending/F11116/ncs/OPERA_L3_DISP-S1_IW_F11116_VV_20180812T140809Z_20190208T140808Z_v1.0_20250409T151738Z.nc'\u001b[0m\u001b[1m)\u001b[0m,\n",
       "    \u001b[1;35mPosixPath\u001b[0m\u001b[1m(\u001b[0m\u001b[32m'/home/staniewi/dev/disp-production-data/descending/F11116/ncs/OPERA_L3_DISP-S1_IW_F11116_VV_20190208T140808Z_20190220T140808Z_v1.0_20250409T210158Z.nc'\u001b[0m\u001b[1m)\u001b[0m,\n",
       "    \u001b[1;35mPosixPath\u001b[0m\u001b[1m(\u001b[0m\u001b[32m'/home/staniewi/dev/disp-production-data/descending/F11116/ncs/OPERA_L3_DISP-S1_IW_F11116_VV_20190208T140808Z_20190304T140808Z_v1.0_20250409T210158Z.nc'\u001b[0m\u001b[1m)\u001b[0m,\n",
       "    \u001b[1;35mPosixPath\u001b[0m\u001b[1m(\u001b[0m\u001b[32m'/home/staniewi/dev/disp-production-data/descending/F11116/ncs/OPERA_L3_DISP-S1_IW_F11116_VV_20190208T140808Z_20190316T140808Z_v1.0_20250409T210158Z.nc'\u001b[0m\u001b[1m)\u001b[0m,\n",
       "    \u001b[1;35mPosixPath\u001b[0m\u001b[1m(\u001b[0m\u001b[32m'/home/staniewi/dev/disp-production-data/descending/F11116/ncs/OPERA_L3_DISP-S1_IW_F11116_VV_20190208T140808Z_20190328T140809Z_v1.0_20250409T210158Z.nc'\u001b[0m\u001b[1m)\u001b[0m,\n",
       "    \u001b[1;35mPosixPath\u001b[0m\u001b[1m(\u001b[0m\u001b[32m'/home/staniewi/dev/disp-production-data/descending/F11116/ncs/OPERA_L3_DISP-S1_IW_F11116_VV_20190208T140808Z_20190409T140809Z_v1.0_20250409T210158Z.nc'\u001b[0m\u001b[1m)\u001b[0m,\n",
       "    \u001b[1;35mPosixPath\u001b[0m\u001b[1m(\u001b[0m\u001b[32m'/home/staniewi/dev/disp-production-data/descending/F11116/ncs/OPERA_L3_DISP-S1_IW_F11116_VV_20190208T140808Z_20190421T140809Z_v1.0_20250409T210158Z.nc'\u001b[0m\u001b[1m)\u001b[0m,\n",
       "    \u001b[1;35mPosixPath\u001b[0m\u001b[1m(\u001b[0m\u001b[32m'/home/staniewi/dev/disp-production-data/descending/F11116/ncs/OPERA_L3_DISP-S1_IW_F11116_VV_20190208T140808Z_20190503T140810Z_v1.0_20250409T210158Z.nc'\u001b[0m\u001b[1m)\u001b[0m,\n",
       "    \u001b[1;35mPosixPath\u001b[0m\u001b[1m(\u001b[0m\u001b[32m'/home/staniewi/dev/disp-production-data/descending/F11116/ncs/OPERA_L3_DISP-S1_IW_F11116_VV_20190208T140808Z_20190515T140810Z_v1.0_20250409T210158Z.nc'\u001b[0m\u001b[1m)\u001b[0m,\n",
       "    \u001b[1;35mPosixPath\u001b[0m\u001b[1m(\u001b[0m\u001b[32m'/home/staniewi/dev/disp-production-data/descending/F11116/ncs/OPERA_L3_DISP-S1_IW_F11116_VV_20190208T140808Z_20190527T140811Z_v1.0_20250409T210158Z.nc'\u001b[0m\u001b[1m)\u001b[0m,\n",
       "    \u001b[1;35mPosixPath\u001b[0m\u001b[1m(\u001b[0m\u001b[32m'/home/staniewi/dev/disp-production-data/descending/F11116/ncs/OPERA_L3_DISP-S1_IW_F11116_VV_20190208T140808Z_20190608T140811Z_v1.0_20250409T210158Z.nc'\u001b[0m\u001b[1m)\u001b[0m,\n",
       "    \u001b[1;35mPosixPath\u001b[0m\u001b[1m(\u001b[0m\u001b[32m'/home/staniewi/dev/disp-production-data/descending/F11116/ncs/OPERA_L3_DISP-S1_IW_F11116_VV_20190208T140808Z_20190620T140812Z_v1.0_20250409T210158Z.nc'\u001b[0m\u001b[1m)\u001b[0m,\n",
       "    \u001b[1;35mPosixPath\u001b[0m\u001b[1m(\u001b[0m\u001b[32m'/home/staniewi/dev/disp-production-data/descending/F11116/ncs/OPERA_L3_DISP-S1_IW_F11116_VV_20190208T140808Z_20190702T140813Z_v1.0_20250409T210158Z.nc'\u001b[0m\u001b[1m)\u001b[0m,\n",
       "    \u001b[1;35mPosixPath\u001b[0m\u001b[1m(\u001b[0m\u001b[32m'/home/staniewi/dev/disp-production-data/descending/F11116/ncs/OPERA_L3_DISP-S1_IW_F11116_VV_20190208T140808Z_20190714T140814Z_v1.0_20250409T210158Z.nc'\u001b[0m\u001b[1m)\u001b[0m,\n",
       "    \u001b[1;35mPosixPath\u001b[0m\u001b[1m(\u001b[0m\u001b[32m'/home/staniewi/dev/disp-production-data/descending/F11116/ncs/OPERA_L3_DISP-S1_IW_F11116_VV_20190208T140808Z_20190726T140814Z_v1.0_20250409T210158Z.nc'\u001b[0m\u001b[1m)\u001b[0m,\n",
       "    \u001b[1;35mPosixPath\u001b[0m\u001b[1m(\u001b[0m\u001b[32m'/home/staniewi/dev/disp-production-data/descending/F11116/ncs/OPERA_L3_DISP-S1_IW_F11116_VV_20190208T140808Z_20190807T140815Z_v1.0_20250409T210158Z.nc'\u001b[0m\u001b[1m)\u001b[0m,\n",
       "    \u001b[1;35mPosixPath\u001b[0m\u001b[1m(\u001b[0m\u001b[32m'/home/staniewi/dev/disp-production-data/descending/F11116/ncs/OPERA_L3_DISP-S1_IW_F11116_VV_20190807T140815Z_20190813T140734Z_v1.0_20250410T025915Z.nc'\u001b[0m\u001b[1m)\u001b[0m,\n",
       "    \u001b[1;35mPosixPath\u001b[0m\u001b[1m(\u001b[0m\u001b[32m'/home/staniewi/dev/disp-production-data/descending/F11116/ncs/OPERA_L3_DISP-S1_IW_F11116_VV_20190807T140815Z_20190819T140816Z_v1.0_20250410T025915Z.nc'\u001b[0m\u001b[1m)\u001b[0m,\n",
       "    \u001b[1;35mPosixPath\u001b[0m\u001b[1m(\u001b[0m\u001b[32m'/home/staniewi/dev/disp-production-data/descending/F11116/ncs/OPERA_L3_DISP-S1_IW_F11116_VV_20190807T140815Z_20190825T140734Z_v1.0_20250410T025915Z.nc'\u001b[0m\u001b[1m)\u001b[0m,\n",
       "    \u001b[1;35mPosixPath\u001b[0m\u001b[1m(\u001b[0m\u001b[32m'/home/staniewi/dev/disp-production-data/descending/F11116/ncs/OPERA_L3_DISP-S1_IW_F11116_VV_20190807T140815Z_20190831T140816Z_v1.0_20250410T025915Z.nc'\u001b[0m\u001b[1m)\u001b[0m,\n",
       "    \u001b[1;35mPosixPath\u001b[0m\u001b[1m(\u001b[0m\u001b[32m'/home/staniewi/dev/disp-production-data/descending/F11116/ncs/OPERA_L3_DISP-S1_IW_F11116_VV_20190807T140815Z_20190906T140735Z_v1.0_20250410T025915Z.nc'\u001b[0m\u001b[1m)\u001b[0m,\n",
       "    \u001b[1;35mPosixPath\u001b[0m\u001b[1m(\u001b[0m\u001b[32m'/home/staniewi/dev/disp-production-data/descending/F11116/ncs/OPERA_L3_DISP-S1_IW_F11116_VV_20190807T140815Z_20190912T140817Z_v1.0_20250410T025915Z.nc'\u001b[0m\u001b[1m)\u001b[0m,\n",
       "    \u001b[1;35mPosixPath\u001b[0m\u001b[1m(\u001b[0m\u001b[32m'/home/staniewi/dev/disp-production-data/descending/F11116/ncs/OPERA_L3_DISP-S1_IW_F11116_VV_20190807T140815Z_20190918T140735Z_v1.0_20250410T025915Z.nc'\u001b[0m\u001b[1m)\u001b[0m,\n",
       "    \u001b[1;35mPosixPath\u001b[0m\u001b[1m(\u001b[0m\u001b[32m'/home/staniewi/dev/disp-production-data/descending/F11116/ncs/OPERA_L3_DISP-S1_IW_F11116_VV_20190807T140815Z_20190924T140818Z_v1.0_20250410T025915Z.nc'\u001b[0m\u001b[1m)\u001b[0m,\n",
       "    \u001b[1;35mPosixPath\u001b[0m\u001b[1m(\u001b[0m\u001b[32m'/home/staniewi/dev/disp-production-data/descending/F11116/ncs/OPERA_L3_DISP-S1_IW_F11116_VV_20190807T140815Z_20190930T140736Z_v1.0_20250410T025915Z.nc'\u001b[0m\u001b[1m)\u001b[0m,\n",
       "    \u001b[1;35mPosixPath\u001b[0m\u001b[1m(\u001b[0m\u001b[32m'/home/staniewi/dev/disp-production-data/descending/F11116/ncs/OPERA_L3_DISP-S1_IW_F11116_VV_20190807T140815Z_20191006T140818Z_v1.0_20250410T025915Z.nc'\u001b[0m\u001b[1m)\u001b[0m,\n",
       "    \u001b[1;35mPosixPath\u001b[0m\u001b[1m(\u001b[0m\u001b[32m'/home/staniewi/dev/disp-production-data/descending/F11116/ncs/OPERA_L3_DISP-S1_IW_F11116_VV_20190807T140815Z_20191012T140736Z_v1.0_20250410T025915Z.nc'\u001b[0m\u001b[1m)\u001b[0m,\n",
       "    \u001b[1;35mPosixPath\u001b[0m\u001b[1m(\u001b[0m\u001b[32m'/home/staniewi/dev/disp-production-data/descending/F11116/ncs/OPERA_L3_DISP-S1_IW_F11116_VV_20190807T140815Z_20191018T140818Z_v1.0_20250410T025915Z.nc'\u001b[0m\u001b[1m)\u001b[0m,\n",
       "    \u001b[1;35mPosixPath\u001b[0m\u001b[1m(\u001b[0m\u001b[32m'/home/staniewi/dev/disp-production-data/descending/F11116/ncs/OPERA_L3_DISP-S1_IW_F11116_VV_20190807T140815Z_20191024T140736Z_v1.0_20250410T025915Z.nc'\u001b[0m\u001b[1m)\u001b[0m,\n",
       "    \u001b[1;35mPosixPath\u001b[0m\u001b[1m(\u001b[0m\u001b[32m'/home/staniewi/dev/disp-production-data/descending/F11116/ncs/OPERA_L3_DISP-S1_IW_F11116_VV_20190807T140815Z_20191030T140818Z_v1.0_20250410T025915Z.nc'\u001b[0m\u001b[1m)\u001b[0m,\n",
       "    \u001b[1;35mPosixPath\u001b[0m\u001b[1m(\u001b[0m\u001b[32m'/home/staniewi/dev/disp-production-data/descending/F11116/ncs/OPERA_L3_DISP-S1_IW_F11116_VV_20190807T140815Z_20191105T140736Z_v1.0_20250410T025915Z.nc'\u001b[0m\u001b[1m)\u001b[0m,\n",
       "    \u001b[1;35mPosixPath\u001b[0m\u001b[1m(\u001b[0m\u001b[32m'/home/staniewi/dev/disp-production-data/descending/F11116/ncs/OPERA_L3_DISP-S1_IW_F11116_VV_20191105T140736Z_20191111T140818Z_v1.0_20250410T091243Z.nc'\u001b[0m\u001b[1m)\u001b[0m,\n",
       "    \u001b[1;35mPosixPath\u001b[0m\u001b[1m(\u001b[0m\u001b[32m'/home/staniewi/dev/disp-production-data/descending/F11116/ncs/OPERA_L3_DISP-S1_IW_F11116_VV_20191105T140736Z_20191117T140736Z_v1.0_20250410T091243Z.nc'\u001b[0m\u001b[1m)\u001b[0m,\n",
       "    \u001b[1;35mPosixPath\u001b[0m\u001b[1m(\u001b[0m\u001b[32m'/home/staniewi/dev/disp-production-data/descending/F11116/ncs/OPERA_L3_DISP-S1_IW_F11116_VV_20191105T140736Z_20191123T140818Z_v1.0_20250410T091243Z.nc'\u001b[0m\u001b[1m)\u001b[0m,\n",
       "    \u001b[1;35mPosixPath\u001b[0m\u001b[1m(\u001b[0m\u001b[32m'/home/staniewi/dev/disp-production-data/descending/F11116/ncs/OPERA_L3_DISP-S1_IW_F11116_VV_20191105T140736Z_20191129T140735Z_v1.0_20250410T091243Z.nc'\u001b[0m\u001b[1m)\u001b[0m,\n",
       "    \u001b[1;35mPosixPath\u001b[0m\u001b[1m(\u001b[0m\u001b[32m'/home/staniewi/dev/disp-production-data/descending/F11116/ncs/OPERA_L3_DISP-S1_IW_F11116_VV_20191105T140736Z_20191205T140817Z_v1.0_20250410T091243Z.nc'\u001b[0m\u001b[1m)\u001b[0m,\n",
       "    \u001b[1;35mPosixPath\u001b[0m\u001b[1m(\u001b[0m\u001b[32m'/home/staniewi/dev/disp-production-data/descending/F11116/ncs/OPERA_L3_DISP-S1_IW_F11116_VV_20191105T140736Z_20191211T140735Z_v1.0_20250410T091243Z.nc'\u001b[0m\u001b[1m)\u001b[0m,\n",
       "    \u001b[1;35mPosixPath\u001b[0m\u001b[1m(\u001b[0m\u001b[32m'/home/staniewi/dev/disp-production-data/descending/F11116/ncs/OPERA_L3_DISP-S1_IW_F11116_VV_20191105T140736Z_20191217T140817Z_v1.0_20250410T091243Z.nc'\u001b[0m\u001b[1m)\u001b[0m,\n",
       "    \u001b[1;35mPosixPath\u001b[0m\u001b[1m(\u001b[0m\u001b[32m'/home/staniewi/dev/disp-production-data/descending/F11116/ncs/OPERA_L3_DISP-S1_IW_F11116_VV_20191105T140736Z_20191223T140735Z_v1.0_20250410T091243Z.nc'\u001b[0m\u001b[1m)\u001b[0m,\n",
       "    \u001b[1;35mPosixPath\u001b[0m\u001b[1m(\u001b[0m\u001b[32m'/home/staniewi/dev/disp-production-data/descending/F11116/ncs/OPERA_L3_DISP-S1_IW_F11116_VV_20191105T140736Z_20191229T140816Z_v1.0_20250410T091243Z.nc'\u001b[0m\u001b[1m)\u001b[0m,\n",
       "    \u001b[1;35mPosixPath\u001b[0m\u001b[1m(\u001b[0m\u001b[32m'/home/staniewi/dev/disp-production-data/descending/F11116/ncs/OPERA_L3_DISP-S1_IW_F11116_VV_20191105T140736Z_20200104T140734Z_v1.0_20250410T091243Z.nc'\u001b[0m\u001b[1m)\u001b[0m,\n",
       "    \u001b[1;35mPosixPath\u001b[0m\u001b[1m(\u001b[0m\u001b[32m'/home/staniewi/dev/disp-production-data/descending/F11116/ncs/OPERA_L3_DISP-S1_IW_F11116_VV_20191105T140736Z_20200110T140816Z_v1.0_20250410T091243Z.nc'\u001b[0m\u001b[1m)\u001b[0m,\n",
       "    \u001b[1;35mPosixPath\u001b[0m\u001b[1m(\u001b[0m\u001b[32m'/home/staniewi/dev/disp-production-data/descending/F11116/ncs/OPERA_L3_DISP-S1_IW_F11116_VV_20191105T140736Z_20200122T140815Z_v1.0_20250410T091243Z.nc'\u001b[0m\u001b[1m)\u001b[0m,\n",
       "    \u001b[1;35mPosixPath\u001b[0m\u001b[1m(\u001b[0m\u001b[32m'/home/staniewi/dev/disp-production-data/descending/F11116/ncs/OPERA_L3_DISP-S1_IW_F11116_VV_20191105T140736Z_20200128T140733Z_v1.0_20250410T091243Z.nc'\u001b[0m\u001b[1m)\u001b[0m,\n",
       "    \u001b[1;35mPosixPath\u001b[0m\u001b[1m(\u001b[0m\u001b[32m'/home/staniewi/dev/disp-production-data/descending/F11116/ncs/OPERA_L3_DISP-S1_IW_F11116_VV_20191105T140736Z_20200203T140815Z_v1.0_20250410T091243Z.nc'\u001b[0m\u001b[1m)\u001b[0m,\n",
       "    \u001b[1;35mPosixPath\u001b[0m\u001b[1m(\u001b[0m\u001b[32m'/home/staniewi/dev/disp-production-data/descending/F11116/ncs/OPERA_L3_DISP-S1_IW_F11116_VV_20191105T140736Z_20200209T140733Z_v1.0_20250410T091243Z.nc'\u001b[0m\u001b[1m)\u001b[0m,\n",
       "    \u001b[1;35mPosixPath\u001b[0m\u001b[1m(\u001b[0m\u001b[32m'/home/staniewi/dev/disp-production-data/descending/F11116/ncs/OPERA_L3_DISP-S1_IW_F11116_VV_20200209T140733Z_20200215T140814Z_v1.0_20250410T152526Z.nc'\u001b[0m\u001b[1m)\u001b[0m,\n",
       "    \u001b[1;35mPosixPath\u001b[0m\u001b[1m(\u001b[0m\u001b[32m'/home/staniewi/dev/disp-production-data/descending/F11116/ncs/OPERA_L3_DISP-S1_IW_F11116_VV_20200209T140733Z_20200221T140733Z_v1.0_20250410T152526Z.nc'\u001b[0m\u001b[1m)\u001b[0m,\n",
       "    \u001b[1;35mPosixPath\u001b[0m\u001b[1m(\u001b[0m\u001b[32m'/home/staniewi/dev/disp-production-data/descending/F11116/ncs/OPERA_L3_DISP-S1_IW_F11116_VV_20200209T140733Z_20200227T140814Z_v1.0_20250410T152526Z.nc'\u001b[0m\u001b[1m)\u001b[0m,\n",
       "    \u001b[1;35mPosixPath\u001b[0m\u001b[1m(\u001b[0m\u001b[32m'/home/staniewi/dev/disp-production-data/descending/F11116/ncs/OPERA_L3_DISP-S1_IW_F11116_VV_20200209T140733Z_20200304T140733Z_v1.0_20250410T152526Z.nc'\u001b[0m\u001b[1m)\u001b[0m,\n",
       "    \u001b[1;35mPosixPath\u001b[0m\u001b[1m(\u001b[0m\u001b[32m'/home/staniewi/dev/disp-production-data/descending/F11116/ncs/OPERA_L3_DISP-S1_IW_F11116_VV_20200209T140733Z_20200310T140814Z_v1.0_20250410T152526Z.nc'\u001b[0m\u001b[1m)\u001b[0m,\n",
       "    \u001b[1;35mPosixPath\u001b[0m\u001b[1m(\u001b[0m\u001b[32m'/home/staniewi/dev/disp-production-data/descending/F11116/ncs/OPERA_L3_DISP-S1_IW_F11116_VV_20200209T140733Z_20200316T140733Z_v1.0_20250410T152526Z.nc'\u001b[0m\u001b[1m)\u001b[0m,\n",
       "    \u001b[1;35mPosixPath\u001b[0m\u001b[1m(\u001b[0m\u001b[32m'/home/staniewi/dev/disp-production-data/descending/F11116/ncs/OPERA_L3_DISP-S1_IW_F11116_VV_20200209T140733Z_20200322T140815Z_v1.0_20250410T152526Z.nc'\u001b[0m\u001b[1m)\u001b[0m,\n",
       "    \u001b[1;35mPosixPath\u001b[0m\u001b[1m(\u001b[0m\u001b[32m'/home/staniewi/dev/disp-production-data/descending/F11116/ncs/OPERA_L3_DISP-S1_IW_F11116_VV_20200209T140733Z_20200328T140733Z_v1.0_20250410T152526Z.nc'\u001b[0m\u001b[1m)\u001b[0m,\n",
       "    \u001b[1;35mPosixPath\u001b[0m\u001b[1m(\u001b[0m\u001b[32m'/home/staniewi/dev/disp-production-data/descending/F11116/ncs/OPERA_L3_DISP-S1_IW_F11116_VV_20200209T140733Z_20200403T140815Z_v1.0_20250410T152526Z.nc'\u001b[0m\u001b[1m)\u001b[0m,\n",
       "    \u001b[1;35mPosixPath\u001b[0m\u001b[1m(\u001b[0m\u001b[32m'/home/staniewi/dev/disp-production-data/descending/F11116/ncs/OPERA_L3_DISP-S1_IW_F11116_VV_20200209T140733Z_20200409T140733Z_v1.0_20250410T152526Z.nc'\u001b[0m\u001b[1m)\u001b[0m,\n",
       "    \u001b[1;35mPosixPath\u001b[0m\u001b[1m(\u001b[0m\u001b[32m'/home/staniewi/dev/disp-production-data/descending/F11116/ncs/OPERA_L3_DISP-S1_IW_F11116_VV_20200209T140733Z_20200415T140815Z_v1.0_20250410T152526Z.nc'\u001b[0m\u001b[1m)\u001b[0m,\n",
       "    \u001b[1;35mPosixPath\u001b[0m\u001b[1m(\u001b[0m\u001b[32m'/home/staniewi/dev/disp-production-data/descending/F11116/ncs/OPERA_L3_DISP-S1_IW_F11116_VV_20200209T140733Z_20200421T140734Z_v1.0_20250410T152526Z.nc'\u001b[0m\u001b[1m)\u001b[0m,\n",
       "    \u001b[1;35mPosixPath\u001b[0m\u001b[1m(\u001b[0m\u001b[32m'/home/staniewi/dev/disp-production-data/descending/F11116/ncs/OPERA_L3_DISP-S1_IW_F11116_VV_20200209T140733Z_20200427T140816Z_v1.0_20250410T152526Z.nc'\u001b[0m\u001b[1m)\u001b[0m,\n",
       "    \u001b[1;35mPosixPath\u001b[0m\u001b[1m(\u001b[0m\u001b[32m'/home/staniewi/dev/disp-production-data/descending/F11116/ncs/OPERA_L3_DISP-S1_IW_F11116_VV_20200209T140733Z_20200503T140734Z_v1.0_20250410T152526Z.nc'\u001b[0m\u001b[1m)\u001b[0m,\n",
       "    \u001b[1;35mPosixPath\u001b[0m\u001b[1m(\u001b[0m\u001b[32m'/home/staniewi/dev/disp-production-data/descending/F11116/ncs/OPERA_L3_DISP-S1_IW_F11116_VV_20200209T140733Z_20200509T140816Z_v1.0_20250410T152526Z.nc'\u001b[0m\u001b[1m)\u001b[0m,\n",
       "    \u001b[1;35mPosixPath\u001b[0m\u001b[1m(\u001b[0m\u001b[32m'/home/staniewi/dev/disp-production-data/descending/F11116/ncs/OPERA_L3_DISP-S1_IW_F11116_VV_20200509T140816Z_20200515T140735Z_v1.0_20250410T213034Z.nc'\u001b[0m\u001b[1m)\u001b[0m,\n",
       "    \u001b[1;35mPosixPath\u001b[0m\u001b[1m(\u001b[0m\u001b[32m'/home/staniewi/dev/disp-production-data/descending/F11116/ncs/OPERA_L3_DISP-S1_IW_F11116_VV_20200509T140816Z_20200521T140817Z_v1.0_20250410T213034Z.nc'\u001b[0m\u001b[1m)\u001b[0m,\n",
       "    \u001b[1;35mPosixPath\u001b[0m\u001b[1m(\u001b[0m\u001b[32m'/home/staniewi/dev/disp-production-data/descending/F11116/ncs/OPERA_L3_DISP-S1_IW_F11116_VV_20200509T140816Z_20200527T140736Z_v1.0_20250410T213034Z.nc'\u001b[0m\u001b[1m)\u001b[0m,\n",
       "    \u001b[1;35mPosixPath\u001b[0m\u001b[1m(\u001b[0m\u001b[32m'/home/staniewi/dev/disp-production-data/descending/F11116/ncs/OPERA_L3_DISP-S1_IW_F11116_VV_20200509T140816Z_20200602T140818Z_v1.0_20250410T213034Z.nc'\u001b[0m\u001b[1m)\u001b[0m,\n",
       "    \u001b[1;35mPosixPath\u001b[0m\u001b[1m(\u001b[0m\u001b[32m'/home/staniewi/dev/disp-production-data/descending/F11116/ncs/OPERA_L3_DISP-S1_IW_F11116_VV_20200509T140816Z_20200608T140736Z_v1.0_20250410T213034Z.nc'\u001b[0m\u001b[1m)\u001b[0m,\n",
       "    \u001b[1;35mPosixPath\u001b[0m\u001b[1m(\u001b[0m\u001b[32m'/home/staniewi/dev/disp-production-data/descending/F11116/ncs/OPERA_L3_DISP-S1_IW_F11116_VV_20200509T140816Z_20200614T140819Z_v1.0_20250410T213034Z.nc'\u001b[0m\u001b[1m)\u001b[0m,\n",
       "    \u001b[1;35mPosixPath\u001b[0m\u001b[1m(\u001b[0m\u001b[32m'/home/staniewi/dev/disp-production-data/descending/F11116/ncs/OPERA_L3_DISP-S1_IW_F11116_VV_20200509T140816Z_20200620T140737Z_v1.0_20250410T213034Z.nc'\u001b[0m\u001b[1m)\u001b[0m,\n",
       "    \u001b[1;35mPosixPath\u001b[0m\u001b[1m(\u001b[0m\u001b[32m'/home/staniewi/dev/disp-production-data/descending/F11116/ncs/OPERA_L3_DISP-S1_IW_F11116_VV_20200509T140816Z_20200626T140819Z_v1.0_20250410T213034Z.nc'\u001b[0m\u001b[1m)\u001b[0m,\n",
       "    \u001b[1;35mPosixPath\u001b[0m\u001b[1m(\u001b[0m\u001b[32m'/home/staniewi/dev/disp-production-data/descending/F11116/ncs/OPERA_L3_DISP-S1_IW_F11116_VV_20200509T140816Z_20200702T140738Z_v1.0_20250410T213034Z.nc'\u001b[0m\u001b[1m)\u001b[0m,\n",
       "    \u001b[1;35mPosixPath\u001b[0m\u001b[1m(\u001b[0m\u001b[32m'/home/staniewi/dev/disp-production-data/descending/F11116/ncs/OPERA_L3_DISP-S1_IW_F11116_VV_20200509T140816Z_20200708T140820Z_v1.0_20250410T213034Z.nc'\u001b[0m\u001b[1m)\u001b[0m,\n",
       "    \u001b[1;35mPosixPath\u001b[0m\u001b[1m(\u001b[0m\u001b[32m'/home/staniewi/dev/disp-production-data/descending/F11116/ncs/OPERA_L3_DISP-S1_IW_F11116_VV_20200509T140816Z_20200714T140738Z_v1.0_20250410T213034Z.nc'\u001b[0m\u001b[1m)\u001b[0m,\n",
       "    \u001b[1;35mPosixPath\u001b[0m\u001b[1m(\u001b[0m\u001b[32m'/home/staniewi/dev/disp-production-data/descending/F11116/ncs/OPERA_L3_DISP-S1_IW_F11116_VV_20200509T140816Z_20200720T140821Z_v1.0_20250410T213034Z.nc'\u001b[0m\u001b[1m)\u001b[0m,\n",
       "    \u001b[1;35mPosixPath\u001b[0m\u001b[1m(\u001b[0m\u001b[32m'/home/staniewi/dev/disp-production-data/descending/F11116/ncs/OPERA_L3_DISP-S1_IW_F11116_VV_20200509T140816Z_20200726T140739Z_v1.0_20250410T213034Z.nc'\u001b[0m\u001b[1m)\u001b[0m,\n",
       "    \u001b[1;35mPosixPath\u001b[0m\u001b[1m(\u001b[0m\u001b[32m'/home/staniewi/dev/disp-production-data/descending/F11116/ncs/OPERA_L3_DISP-S1_IW_F11116_VV_20200509T140816Z_20200801T140821Z_v1.0_20250410T213034Z.nc'\u001b[0m\u001b[1m)\u001b[0m,\n",
       "    \u001b[1;35mPosixPath\u001b[0m\u001b[1m(\u001b[0m\u001b[32m'/home/staniewi/dev/disp-production-data/descending/F11116/ncs/OPERA_L3_DISP-S1_IW_F11116_VV_20200509T140816Z_20200807T140740Z_v1.0_20250410T213034Z.nc'\u001b[0m\u001b[1m)\u001b[0m,\n",
       "    \u001b[1;35mPosixPath\u001b[0m\u001b[1m(\u001b[0m\u001b[32m'/home/staniewi/dev/disp-production-data/descending/F11116/ncs/OPERA_L3_DISP-S1_IW_F11116_VV_20200807T140740Z_20200813T140822Z_v1.0_20250411T033909Z.nc'\u001b[0m\u001b[1m)\u001b[0m,\n",
       "    \u001b[1;35mPosixPath\u001b[0m\u001b[1m(\u001b[0m\u001b[32m'/home/staniewi/dev/disp-production-data/descending/F11116/ncs/OPERA_L3_DISP-S1_IW_F11116_VV_20200807T140740Z_20200819T140740Z_v1.0_20250411T033909Z.nc'\u001b[0m\u001b[1m)\u001b[0m,\n",
       "    \u001b[1;35mPosixPath\u001b[0m\u001b[1m(\u001b[0m\u001b[32m'/home/staniewi/dev/disp-production-data/descending/F11116/ncs/OPERA_L3_DISP-S1_IW_F11116_VV_20200807T140740Z_20200825T140823Z_v1.0_20250411T033909Z.nc'\u001b[0m\u001b[1m)\u001b[0m,\n",
       "    \u001b[1;35mPosixPath\u001b[0m\u001b[1m(\u001b[0m\u001b[32m'/home/staniewi/dev/disp-production-data/descending/F11116/ncs/OPERA_L3_DISP-S1_IW_F11116_VV_20200807T140740Z_20200831T140741Z_v1.0_20250411T033909Z.nc'\u001b[0m\u001b[1m)\u001b[0m,\n",
       "    \u001b[1;35mPosixPath\u001b[0m\u001b[1m(\u001b[0m\u001b[32m'/home/staniewi/dev/disp-production-data/descending/F11116/ncs/OPERA_L3_DISP-S1_IW_F11116_VV_20200807T140740Z_20200906T140823Z_v1.0_20250411T033909Z.nc'\u001b[0m\u001b[1m)\u001b[0m,\n",
       "    \u001b[1;35mPosixPath\u001b[0m\u001b[1m(\u001b[0m\u001b[32m'/home/staniewi/dev/disp-production-data/descending/F11116/ncs/OPERA_L3_DISP-S1_IW_F11116_VV_20200807T140740Z_20200912T140742Z_v1.0_20250411T033909Z.nc'\u001b[0m\u001b[1m)\u001b[0m,\n",
       "    \u001b[1;35mPosixPath\u001b[0m\u001b[1m(\u001b[0m\u001b[32m'/home/staniewi/dev/disp-production-data/descending/F11116/ncs/OPERA_L3_DISP-S1_IW_F11116_VV_20200807T140740Z_20200918T140824Z_v1.0_20250411T033909Z.nc'\u001b[0m\u001b[1m)\u001b[0m,\n",
       "    \u001b[1;35mPosixPath\u001b[0m\u001b[1m(\u001b[0m\u001b[32m'/home/staniewi/dev/disp-production-data/descending/F11116/ncs/OPERA_L3_DISP-S1_IW_F11116_VV_20200807T140740Z_20200924T140742Z_v1.0_20250411T033909Z.nc'\u001b[0m\u001b[1m)\u001b[0m,\n",
       "    \u001b[1;35mPosixPath\u001b[0m\u001b[1m(\u001b[0m\u001b[32m'/home/staniewi/dev/disp-production-data/descending/F11116/ncs/OPERA_L3_DISP-S1_IW_F11116_VV_20200807T140740Z_20200930T140824Z_v1.0_20250411T033909Z.nc'\u001b[0m\u001b[1m)\u001b[0m,\n",
       "    \u001b[1;35mPosixPath\u001b[0m\u001b[1m(\u001b[0m\u001b[32m'/home/staniewi/dev/disp-production-data/descending/F11116/ncs/OPERA_L3_DISP-S1_IW_F11116_VV_20200807T140740Z_20201006T140742Z_v1.0_20250411T033909Z.nc'\u001b[0m\u001b[1m)\u001b[0m,\n",
       "    \u001b[1;35mPosixPath\u001b[0m\u001b[1m(\u001b[0m\u001b[32m'/home/staniewi/dev/disp-production-data/descending/F11116/ncs/OPERA_L3_DISP-S1_IW_F11116_VV_20200807T140740Z_20201012T140824Z_v1.0_20250411T033909Z.nc'\u001b[0m\u001b[1m)\u001b[0m,\n",
       "    \u001b[1;35mPosixPath\u001b[0m\u001b[1m(\u001b[0m\u001b[32m'/home/staniewi/dev/disp-production-data/descending/F11116/ncs/OPERA_L3_DISP-S1_IW_F11116_VV_20200807T140740Z_20201018T140742Z_v1.0_20250411T033909Z.nc'\u001b[0m\u001b[1m)\u001b[0m,\n",
       "    \u001b[1;35mPosixPath\u001b[0m\u001b[1m(\u001b[0m\u001b[32m'/home/staniewi/dev/disp-production-data/descending/F11116/ncs/OPERA_L3_DISP-S1_IW_F11116_VV_20200807T140740Z_20201024T140824Z_v1.0_20250411T033909Z.nc'\u001b[0m\u001b[1m)\u001b[0m,\n",
       "    \u001b[1;35mPosixPath\u001b[0m\u001b[1m(\u001b[0m\u001b[32m'/home/staniewi/dev/disp-production-data/descending/F11116/ncs/OPERA_L3_DISP-S1_IW_F11116_VV_20200807T140740Z_20201030T140742Z_v1.0_20250411T033909Z.nc'\u001b[0m\u001b[1m)\u001b[0m,\n",
       "    \u001b[1;35mPosixPath\u001b[0m\u001b[1m(\u001b[0m\u001b[32m'/home/staniewi/dev/disp-production-data/descending/F11116/ncs/OPERA_L3_DISP-S1_IW_F11116_VV_20200807T140740Z_20201105T140824Z_v1.0_20250411T033909Z.nc'\u001b[0m\u001b[1m)\u001b[0m,\n",
       "    \u001b[1;35mPosixPath\u001b[0m\u001b[1m(\u001b[0m\u001b[32m'/home/staniewi/dev/disp-production-data/descending/F11116/ncs/OPERA_L3_DISP-S1_IW_F11116_VV_20201105T140824Z_20201111T140742Z_v1.0_20250411T094845Z.nc'\u001b[0m\u001b[1m)\u001b[0m,\n",
       "    \u001b[1;35mPosixPath\u001b[0m\u001b[1m(\u001b[0m\u001b[32m'/home/staniewi/dev/disp-production-data/descending/F11116/ncs/OPERA_L3_DISP-S1_IW_F11116_VV_20201105T140824Z_20201117T140824Z_v1.0_20250411T094845Z.nc'\u001b[0m\u001b[1m)\u001b[0m,\n",
       "    \u001b[1;35mPosixPath\u001b[0m\u001b[1m(\u001b[0m\u001b[32m'/home/staniewi/dev/disp-production-data/descending/F11116/ncs/OPERA_L3_DISP-S1_IW_F11116_VV_20201105T140824Z_20201123T140742Z_v1.0_20250411T094845Z.nc'\u001b[0m\u001b[1m)\u001b[0m,\n",
       "    \u001b[1;35mPosixPath\u001b[0m\u001b[1m(\u001b[0m\u001b[32m'/home/staniewi/dev/disp-production-data/descending/F11116/ncs/OPERA_L3_DISP-S1_IW_F11116_VV_20201105T140824Z_20201129T140823Z_v1.0_20250411T094845Z.nc'\u001b[0m\u001b[1m)\u001b[0m,\n",
       "    \u001b[1;35mPosixPath\u001b[0m\u001b[1m(\u001b[0m\u001b[32m'/home/staniewi/dev/disp-production-data/descending/F11116/ncs/OPERA_L3_DISP-S1_IW_F11116_VV_20201105T140824Z_20201205T140741Z_v1.0_20250411T094845Z.nc'\u001b[0m\u001b[1m)\u001b[0m,\n",
       "    \u001b[1;35mPosixPath\u001b[0m\u001b[1m(\u001b[0m\u001b[32m'/home/staniewi/dev/disp-production-data/descending/F11116/ncs/OPERA_L3_DISP-S1_IW_F11116_VV_20201105T140824Z_20201211T140823Z_v1.0_20250411T094845Z.nc'\u001b[0m\u001b[1m)\u001b[0m,\n",
       "    \u001b[1;35mPosixPath\u001b[0m\u001b[1m(\u001b[0m\u001b[32m'/home/staniewi/dev/disp-production-data/descending/F11116/ncs/OPERA_L3_DISP-S1_IW_F11116_VV_20201105T140824Z_20201217T140741Z_v1.0_20250411T094845Z.nc'\u001b[0m\u001b[1m)\u001b[0m,\n",
       "    \u001b[1;35mPosixPath\u001b[0m\u001b[1m(\u001b[0m\u001b[32m'/home/staniewi/dev/disp-production-data/descending/F11116/ncs/OPERA_L3_DISP-S1_IW_F11116_VV_20201105T140824Z_20201223T140822Z_v1.0_20250411T094845Z.nc'\u001b[0m\u001b[1m)\u001b[0m,\n",
       "    \u001b[1;35mPosixPath\u001b[0m\u001b[1m(\u001b[0m\u001b[32m'/home/staniewi/dev/disp-production-data/descending/F11116/ncs/OPERA_L3_DISP-S1_IW_F11116_VV_20201105T140824Z_20201229T140740Z_v1.0_20250411T094845Z.nc'\u001b[0m\u001b[1m)\u001b[0m,\n",
       "    \u001b[1;35mPosixPath\u001b[0m\u001b[1m(\u001b[0m\u001b[32m'/home/staniewi/dev/disp-production-data/descending/F11116/ncs/OPERA_L3_DISP-S1_IW_F11116_VV_20201105T140824Z_20210104T140822Z_v1.0_20250411T094845Z.nc'\u001b[0m\u001b[1m)\u001b[0m,\n",
       "    \u001b[1;35mPosixPath\u001b[0m\u001b[1m(\u001b[0m\u001b[32m'/home/staniewi/dev/disp-production-data/descending/F11116/ncs/OPERA_L3_DISP-S1_IW_F11116_VV_20201105T140824Z_20210110T140740Z_v1.0_20250411T094845Z.nc'\u001b[0m\u001b[1m)\u001b[0m,\n",
       "    \u001b[1;35mPosixPath\u001b[0m\u001b[1m(\u001b[0m\u001b[32m'/home/staniewi/dev/disp-production-data/descending/F11116/ncs/OPERA_L3_DISP-S1_IW_F11116_VV_20201105T140824Z_20210116T140821Z_v1.0_20250411T094845Z.nc'\u001b[0m\u001b[1m)\u001b[0m,\n",
       "    \u001b[1;35mPosixPath\u001b[0m\u001b[1m(\u001b[0m\u001b[32m'/home/staniewi/dev/disp-production-data/descending/F11116/ncs/OPERA_L3_DISP-S1_IW_F11116_VV_20201105T140824Z_20210122T140739Z_v1.0_20250411T094845Z.nc'\u001b[0m\u001b[1m)\u001b[0m,\n",
       "    \u001b[1;35mPosixPath\u001b[0m\u001b[1m(\u001b[0m\u001b[32m'/home/staniewi/dev/disp-production-data/descending/F11116/ncs/OPERA_L3_DISP-S1_IW_F11116_VV_20201105T140824Z_20210128T140821Z_v1.0_20250411T094845Z.nc'\u001b[0m\u001b[1m)\u001b[0m,\n",
       "    \u001b[1;35mPosixPath\u001b[0m\u001b[1m(\u001b[0m\u001b[32m'/home/staniewi/dev/disp-production-data/descending/F11116/ncs/OPERA_L3_DISP-S1_IW_F11116_VV_20201105T140824Z_20210203T140739Z_v1.0_20250411T094845Z.nc'\u001b[0m\u001b[1m)\u001b[0m,\n",
       "    \u001b[1;35mPosixPath\u001b[0m\u001b[1m(\u001b[0m\u001b[32m'/home/staniewi/dev/disp-production-data/descending/F11116/ncs/OPERA_L3_DISP-S1_IW_F11116_VV_20210203T140739Z_20210209T140821Z_v1.0_20250411T154638Z.nc'\u001b[0m\u001b[1m)\u001b[0m,\n",
       "    \u001b[1;35mPosixPath\u001b[0m\u001b[1m(\u001b[0m\u001b[32m'/home/staniewi/dev/disp-production-data/descending/F11116/ncs/OPERA_L3_DISP-S1_IW_F11116_VV_20210203T140739Z_20210215T140739Z_v1.0_20250411T154638Z.nc'\u001b[0m\u001b[1m)\u001b[0m,\n",
       "    \u001b[1;35mPosixPath\u001b[0m\u001b[1m(\u001b[0m\u001b[32m'/home/staniewi/dev/disp-production-data/descending/F11116/ncs/OPERA_L3_DISP-S1_IW_F11116_VV_20210203T140739Z_20210221T140820Z_v1.0_20250411T154638Z.nc'\u001b[0m\u001b[1m)\u001b[0m,\n",
       "    \u001b[1;35mPosixPath\u001b[0m\u001b[1m(\u001b[0m\u001b[32m'/home/staniewi/dev/disp-production-data/descending/F11116/ncs/OPERA_L3_DISP-S1_IW_F11116_VV_20210203T140739Z_20210227T140738Z_v1.0_20250411T154638Z.nc'\u001b[0m\u001b[1m)\u001b[0m,\n",
       "    \u001b[1;35mPosixPath\u001b[0m\u001b[1m(\u001b[0m\u001b[32m'/home/staniewi/dev/disp-production-data/descending/F11116/ncs/OPERA_L3_DISP-S1_IW_F11116_VV_20210203T140739Z_20210305T140820Z_v1.0_20250411T154638Z.nc'\u001b[0m\u001b[1m)\u001b[0m,\n",
       "    \u001b[1;35mPosixPath\u001b[0m\u001b[1m(\u001b[0m\u001b[32m'/home/staniewi/dev/disp-production-data/descending/F11116/ncs/OPERA_L3_DISP-S1_IW_F11116_VV_20210203T140739Z_20210311T140738Z_v1.0_20250411T154638Z.nc'\u001b[0m\u001b[1m)\u001b[0m,\n",
       "    \u001b[1;35mPosixPath\u001b[0m\u001b[1m(\u001b[0m\u001b[32m'/home/staniewi/dev/disp-production-data/descending/F11116/ncs/OPERA_L3_DISP-S1_IW_F11116_VV_20210203T140739Z_20210317T140820Z_v1.0_20250411T154638Z.nc'\u001b[0m\u001b[1m)\u001b[0m,\n",
       "    \u001b[1;35mPosixPath\u001b[0m\u001b[1m(\u001b[0m\u001b[32m'/home/staniewi/dev/disp-production-data/descending/F11116/ncs/OPERA_L3_DISP-S1_IW_F11116_VV_20210203T140739Z_20210323T140739Z_v1.0_20250411T154638Z.nc'\u001b[0m\u001b[1m)\u001b[0m,\n",
       "    \u001b[1;35mPosixPath\u001b[0m\u001b[1m(\u001b[0m\u001b[32m'/home/staniewi/dev/disp-production-data/descending/F11116/ncs/OPERA_L3_DISP-S1_IW_F11116_VV_20210203T140739Z_20210329T140821Z_v1.0_20250411T154638Z.nc'\u001b[0m\u001b[1m)\u001b[0m,\n",
       "    \u001b[1;35mPosixPath\u001b[0m\u001b[1m(\u001b[0m\u001b[32m'/home/staniewi/dev/disp-production-data/descending/F11116/ncs/OPERA_L3_DISP-S1_IW_F11116_VV_20210203T140739Z_20210404T140739Z_v1.0_20250411T154638Z.nc'\u001b[0m\u001b[1m)\u001b[0m,\n",
       "    \u001b[1;35mPosixPath\u001b[0m\u001b[1m(\u001b[0m\u001b[32m'/home/staniewi/dev/disp-production-data/descending/F11116/ncs/OPERA_L3_DISP-S1_IW_F11116_VV_20210203T140739Z_20210410T140821Z_v1.0_20250411T154638Z.nc'\u001b[0m\u001b[1m)\u001b[0m,\n",
       "    \u001b[1;35mPosixPath\u001b[0m\u001b[1m(\u001b[0m\u001b[32m'/home/staniewi/dev/disp-production-data/descending/F11116/ncs/OPERA_L3_DISP-S1_IW_F11116_VV_20210203T140739Z_20210416T140739Z_v1.0_20250411T154638Z.nc'\u001b[0m\u001b[1m)\u001b[0m,\n",
       "    \u001b[1;35mPosixPath\u001b[0m\u001b[1m(\u001b[0m\u001b[32m'/home/staniewi/dev/disp-production-data/descending/F11116/ncs/OPERA_L3_DISP-S1_IW_F11116_VV_20210203T140739Z_20210422T140822Z_v1.0_20250411T154638Z.nc'\u001b[0m\u001b[1m)\u001b[0m,\n",
       "    \u001b[1;35mPosixPath\u001b[0m\u001b[1m(\u001b[0m\u001b[32m'/home/staniewi/dev/disp-production-data/descending/F11116/ncs/OPERA_L3_DISP-S1_IW_F11116_VV_20210203T140739Z_20210428T140740Z_v1.0_20250411T154638Z.nc'\u001b[0m\u001b[1m)\u001b[0m,\n",
       "    \u001b[1;35mPosixPath\u001b[0m\u001b[1m(\u001b[0m\u001b[32m'/home/staniewi/dev/disp-production-data/descending/F11116/ncs/OPERA_L3_DISP-S1_IW_F11116_VV_20210203T140739Z_20210504T140822Z_v1.0_20250411T154638Z.nc'\u001b[0m\u001b[1m)\u001b[0m,\n",
       "    \u001b[1;35mPosixPath\u001b[0m\u001b[1m(\u001b[0m\u001b[32m'/home/staniewi/dev/disp-production-data/descending/F11116/ncs/OPERA_L3_DISP-S1_IW_F11116_VV_20210504T140822Z_20210510T140741Z_v1.0_20250411T214017Z.nc'\u001b[0m\u001b[1m)\u001b[0m,\n",
       "    \u001b[1;35mPosixPath\u001b[0m\u001b[1m(\u001b[0m\u001b[32m'/home/staniewi/dev/disp-production-data/descending/F11116/ncs/OPERA_L3_DISP-S1_IW_F11116_VV_20210504T140822Z_20210516T140823Z_v1.0_20250411T214017Z.nc'\u001b[0m\u001b[1m)\u001b[0m,\n",
       "    \u001b[1;35mPosixPath\u001b[0m\u001b[1m(\u001b[0m\u001b[32m'/home/staniewi/dev/disp-production-data/descending/F11116/ncs/OPERA_L3_DISP-S1_IW_F11116_VV_20210504T140822Z_20210522T140741Z_v1.0_20250411T214017Z.nc'\u001b[0m\u001b[1m)\u001b[0m,\n",
       "    \u001b[1;35mPosixPath\u001b[0m\u001b[1m(\u001b[0m\u001b[32m'/home/staniewi/dev/disp-production-data/descending/F11116/ncs/OPERA_L3_DISP-S1_IW_F11116_VV_20210504T140822Z_20210528T140823Z_v1.0_20250411T214017Z.nc'\u001b[0m\u001b[1m)\u001b[0m,\n",
       "    \u001b[1;35mPosixPath\u001b[0m\u001b[1m(\u001b[0m\u001b[32m'/home/staniewi/dev/disp-production-data/descending/F11116/ncs/OPERA_L3_DISP-S1_IW_F11116_VV_20210504T140822Z_20210603T140742Z_v1.0_20250411T214017Z.nc'\u001b[0m\u001b[1m)\u001b[0m,\n",
       "    \u001b[1;35mPosixPath\u001b[0m\u001b[1m(\u001b[0m\u001b[32m'/home/staniewi/dev/disp-production-data/descending/F11116/ncs/OPERA_L3_DISP-S1_IW_F11116_VV_20210504T140822Z_20210609T140824Z_v1.0_20250411T214017Z.nc'\u001b[0m\u001b[1m)\u001b[0m,\n",
       "    \u001b[1;35mPosixPath\u001b[0m\u001b[1m(\u001b[0m\u001b[32m'/home/staniewi/dev/disp-production-data/descending/F11116/ncs/OPERA_L3_DISP-S1_IW_F11116_VV_20210504T140822Z_20210615T140743Z_v1.0_20250411T214017Z.nc'\u001b[0m\u001b[1m)\u001b[0m,\n",
       "    \u001b[1;35mPosixPath\u001b[0m\u001b[1m(\u001b[0m\u001b[32m'/home/staniewi/dev/disp-production-data/descending/F11116/ncs/OPERA_L3_DISP-S1_IW_F11116_VV_20210504T140822Z_20210621T140825Z_v1.0_20250411T214017Z.nc'\u001b[0m\u001b[1m)\u001b[0m,\n",
       "    \u001b[1;35mPosixPath\u001b[0m\u001b[1m(\u001b[0m\u001b[32m'/home/staniewi/dev/disp-production-data/descending/F11116/ncs/OPERA_L3_DISP-S1_IW_F11116_VV_20210504T140822Z_20210627T140743Z_v1.0_20250411T214017Z.nc'\u001b[0m\u001b[1m)\u001b[0m,\n",
       "    \u001b[1;35mPosixPath\u001b[0m\u001b[1m(\u001b[0m\u001b[32m'/home/staniewi/dev/disp-production-data/descending/F11116/ncs/OPERA_L3_DISP-S1_IW_F11116_VV_20210504T140822Z_20210703T140826Z_v1.0_20250411T214017Z.nc'\u001b[0m\u001b[1m)\u001b[0m,\n",
       "    \u001b[1;35mPosixPath\u001b[0m\u001b[1m(\u001b[0m\u001b[32m'/home/staniewi/dev/disp-production-data/descending/F11116/ncs/OPERA_L3_DISP-S1_IW_F11116_VV_20210504T140822Z_20210709T140744Z_v1.0_20250411T214017Z.nc'\u001b[0m\u001b[1m)\u001b[0m,\n",
       "    \u001b[1;35mPosixPath\u001b[0m\u001b[1m(\u001b[0m\u001b[32m'/home/staniewi/dev/disp-production-data/descending/F11116/ncs/OPERA_L3_DISP-S1_IW_F11116_VV_20210504T140822Z_20210715T140826Z_v1.0_20250411T214017Z.nc'\u001b[0m\u001b[1m)\u001b[0m,\n",
       "    \u001b[1;35mPosixPath\u001b[0m\u001b[1m(\u001b[0m\u001b[32m'/home/staniewi/dev/disp-production-data/descending/F11116/ncs/OPERA_L3_DISP-S1_IW_F11116_VV_20210504T140822Z_20210721T140745Z_v1.0_20250411T214017Z.nc'\u001b[0m\u001b[1m)\u001b[0m,\n",
       "    \u001b[1;35mPosixPath\u001b[0m\u001b[1m(\u001b[0m\u001b[32m'/home/staniewi/dev/disp-production-data/descending/F11116/ncs/OPERA_L3_DISP-S1_IW_F11116_VV_20210504T140822Z_20210727T140827Z_v1.0_20250411T214017Z.nc'\u001b[0m\u001b[1m)\u001b[0m,\n",
       "    \u001b[1;35mPosixPath\u001b[0m\u001b[1m(\u001b[0m\u001b[32m'/home/staniewi/dev/disp-production-data/descending/F11116/ncs/OPERA_L3_DISP-S1_IW_F11116_VV_20210504T140822Z_20210802T140745Z_v1.0_20250411T214017Z.nc'\u001b[0m\u001b[1m)\u001b[0m,\n",
       "    \u001b[1;35mPosixPath\u001b[0m\u001b[1m(\u001b[0m\u001b[32m'/home/staniewi/dev/disp-production-data/descending/F11116/ncs/OPERA_L3_DISP-S1_IW_F11116_VV_20210802T140745Z_20210808T140828Z_v1.0_20250413T084743Z.nc'\u001b[0m\u001b[1m)\u001b[0m,\n",
       "    \u001b[1;35mPosixPath\u001b[0m\u001b[1m(\u001b[0m\u001b[32m'/home/staniewi/dev/disp-production-data/descending/F11116/ncs/OPERA_L3_DISP-S1_IW_F11116_VV_20210802T140745Z_20210814T140746Z_v1.0_20250413T084743Z.nc'\u001b[0m\u001b[1m)\u001b[0m,\n",
       "    \u001b[1;35mPosixPath\u001b[0m\u001b[1m(\u001b[0m\u001b[32m'/home/staniewi/dev/disp-production-data/descending/F11116/ncs/OPERA_L3_DISP-S1_IW_F11116_VV_20210802T140745Z_20210820T140828Z_v1.0_20250413T084743Z.nc'\u001b[0m\u001b[1m)\u001b[0m,\n",
       "    \u001b[1;35mPosixPath\u001b[0m\u001b[1m(\u001b[0m\u001b[32m'/home/staniewi/dev/disp-production-data/descending/F11116/ncs/OPERA_L3_DISP-S1_IW_F11116_VV_20210802T140745Z_20210826T140747Z_v1.0_20250413T084743Z.nc'\u001b[0m\u001b[1m)\u001b[0m,\n",
       "    \u001b[1;35mPosixPath\u001b[0m\u001b[1m(\u001b[0m\u001b[32m'/home/staniewi/dev/disp-production-data/descending/F11116/ncs/OPERA_L3_DISP-S1_IW_F11116_VV_20210802T140745Z_20210901T140829Z_v1.0_20250413T084743Z.nc'\u001b[0m\u001b[1m)\u001b[0m,\n",
       "    \u001b[1;35mPosixPath\u001b[0m\u001b[1m(\u001b[0m\u001b[32m'/home/staniewi/dev/disp-production-data/descending/F11116/ncs/OPERA_L3_DISP-S1_IW_F11116_VV_20210802T140745Z_20210907T140747Z_v1.0_20250413T084743Z.nc'\u001b[0m\u001b[1m)\u001b[0m,\n",
       "    \u001b[1;35mPosixPath\u001b[0m\u001b[1m(\u001b[0m\u001b[32m'/home/staniewi/dev/disp-production-data/descending/F11116/ncs/OPERA_L3_DISP-S1_IW_F11116_VV_20210802T140745Z_20210913T140829Z_v1.0_20250413T084743Z.nc'\u001b[0m\u001b[1m)\u001b[0m,\n",
       "    \u001b[1;35mPosixPath\u001b[0m\u001b[1m(\u001b[0m\u001b[32m'/home/staniewi/dev/disp-production-data/descending/F11116/ncs/OPERA_L3_DISP-S1_IW_F11116_VV_20210802T140745Z_20210919T140748Z_v1.0_20250413T084743Z.nc'\u001b[0m\u001b[1m)\u001b[0m,\n",
       "    \u001b[1;35mPosixPath\u001b[0m\u001b[1m(\u001b[0m\u001b[32m'/home/staniewi/dev/disp-production-data/descending/F11116/ncs/OPERA_L3_DISP-S1_IW_F11116_VV_20210802T140745Z_20210925T140830Z_v1.0_20250413T084743Z.nc'\u001b[0m\u001b[1m)\u001b[0m,\n",
       "    \u001b[1;35mPosixPath\u001b[0m\u001b[1m(\u001b[0m\u001b[32m'/home/staniewi/dev/disp-production-data/descending/F11116/ncs/OPERA_L3_DISP-S1_IW_F11116_VV_20210802T140745Z_20211001T140748Z_v1.0_20250413T084743Z.nc'\u001b[0m\u001b[1m)\u001b[0m,\n",
       "    \u001b[1;35mPosixPath\u001b[0m\u001b[1m(\u001b[0m\u001b[32m'/home/staniewi/dev/disp-production-data/descending/F11116/ncs/OPERA_L3_DISP-S1_IW_F11116_VV_20210802T140745Z_20211007T140830Z_v1.0_20250413T084743Z.nc'\u001b[0m\u001b[1m)\u001b[0m,\n",
       "    \u001b[1;35mPosixPath\u001b[0m\u001b[1m(\u001b[0m\u001b[32m'/home/staniewi/dev/disp-production-data/descending/F11116/ncs/OPERA_L3_DISP-S1_IW_F11116_VV_20210802T140745Z_20211013T140748Z_v1.0_20250413T084743Z.nc'\u001b[0m\u001b[1m)\u001b[0m,\n",
       "    \u001b[1;35mPosixPath\u001b[0m\u001b[1m(\u001b[0m\u001b[32m'/home/staniewi/dev/disp-production-data/descending/F11116/ncs/OPERA_L3_DISP-S1_IW_F11116_VV_20210802T140745Z_20211019T140830Z_v1.0_20250413T084743Z.nc'\u001b[0m\u001b[1m)\u001b[0m,\n",
       "    \u001b[1;35mPosixPath\u001b[0m\u001b[1m(\u001b[0m\u001b[32m'/home/staniewi/dev/disp-production-data/descending/F11116/ncs/OPERA_L3_DISP-S1_IW_F11116_VV_20210802T140745Z_20211025T140748Z_v1.0_20250413T084743Z.nc'\u001b[0m\u001b[1m)\u001b[0m,\n",
       "    \u001b[1;35mPosixPath\u001b[0m\u001b[1m(\u001b[0m\u001b[32m'/home/staniewi/dev/disp-production-data/descending/F11116/ncs/OPERA_L3_DISP-S1_IW_F11116_VV_20210802T140745Z_20211031T140830Z_v1.0_20250413T084743Z.nc'\u001b[0m\u001b[1m)\u001b[0m,\n",
       "    \u001b[1;35mPosixPath\u001b[0m\u001b[1m(\u001b[0m\u001b[32m'/home/staniewi/dev/disp-production-data/descending/F11116/ncs/OPERA_L3_DISP-S1_IW_F11116_VV_20211031T140830Z_20211106T140748Z_v1.0_20250414T222111Z.nc'\u001b[0m\u001b[1m)\u001b[0m,\n",
       "    \u001b[1;35mPosixPath\u001b[0m\u001b[1m(\u001b[0m\u001b[32m'/home/staniewi/dev/disp-production-data/descending/F11116/ncs/OPERA_L3_DISP-S1_IW_F11116_VV_20211031T140830Z_20211112T140830Z_v1.0_20250414T222111Z.nc'\u001b[0m\u001b[1m)\u001b[0m,\n",
       "    \u001b[1;35mPosixPath\u001b[0m\u001b[1m(\u001b[0m\u001b[32m'/home/staniewi/dev/disp-production-data/descending/F11116/ncs/OPERA_L3_DISP-S1_IW_F11116_VV_20211031T140830Z_20211118T140748Z_v1.0_20250414T222111Z.nc'\u001b[0m\u001b[1m)\u001b[0m,\n",
       "    \u001b[1;35mPosixPath\u001b[0m\u001b[1m(\u001b[0m\u001b[32m'/home/staniewi/dev/disp-production-data/descending/F11116/ncs/OPERA_L3_DISP-S1_IW_F11116_VV_20211031T140830Z_20211124T140829Z_v1.0_20250414T222111Z.nc'\u001b[0m\u001b[1m)\u001b[0m,\n",
       "    \u001b[1;35mPosixPath\u001b[0m\u001b[1m(\u001b[0m\u001b[32m'/home/staniewi/dev/disp-production-data/descending/F11116/ncs/OPERA_L3_DISP-S1_IW_F11116_VV_20211031T140830Z_20211130T140747Z_v1.0_20250414T222111Z.nc'\u001b[0m\u001b[1m)\u001b[0m,\n",
       "    \u001b[1;35mPosixPath\u001b[0m\u001b[1m(\u001b[0m\u001b[32m'/home/staniewi/dev/disp-production-data/descending/F11116/ncs/OPERA_L3_DISP-S1_IW_F11116_VV_20211031T140830Z_20211206T140829Z_v1.0_20250414T222111Z.nc'\u001b[0m\u001b[1m)\u001b[0m,\n",
       "    \u001b[1;35mPosixPath\u001b[0m\u001b[1m(\u001b[0m\u001b[32m'/home/staniewi/dev/disp-production-data/descending/F11116/ncs/OPERA_L3_DISP-S1_IW_F11116_VV_20211031T140830Z_20211212T140747Z_v1.0_20250414T222111Z.nc'\u001b[0m\u001b[1m)\u001b[0m,\n",
       "    \u001b[1;35mPosixPath\u001b[0m\u001b[1m(\u001b[0m\u001b[32m'/home/staniewi/dev/disp-production-data/descending/F11116/ncs/OPERA_L3_DISP-S1_IW_F11116_VV_20211031T140830Z_20211218T140828Z_v1.0_20250414T222111Z.nc'\u001b[0m\u001b[1m)\u001b[0m,\n",
       "    \u001b[1;35mPosixPath\u001b[0m\u001b[1m(\u001b[0m\u001b[32m'/home/staniewi/dev/disp-production-data/descending/F11116/ncs/OPERA_L3_DISP-S1_IW_F11116_VV_20211031T140830Z_20211230T140828Z_v1.0_20250414T222111Z.nc'\u001b[0m\u001b[1m)\u001b[0m,\n",
       "    \u001b[1;35mPosixPath\u001b[0m\u001b[1m(\u001b[0m\u001b[32m'/home/staniewi/dev/disp-production-data/descending/F11116/ncs/OPERA_L3_DISP-S1_IW_F11116_VV_20211031T140830Z_20220111T140827Z_v1.0_20250414T222111Z.nc'\u001b[0m\u001b[1m)\u001b[0m,\n",
       "    \u001b[1;35mPosixPath\u001b[0m\u001b[1m(\u001b[0m\u001b[32m'/home/staniewi/dev/disp-production-data/descending/F11116/ncs/OPERA_L3_DISP-S1_IW_F11116_VV_20211031T140830Z_20220123T140827Z_v1.0_20250414T222111Z.nc'\u001b[0m\u001b[1m)\u001b[0m,\n",
       "    \u001b[1;35mPosixPath\u001b[0m\u001b[1m(\u001b[0m\u001b[32m'/home/staniewi/dev/disp-production-data/descending/F11116/ncs/OPERA_L3_DISP-S1_IW_F11116_VV_20211031T140830Z_20220204T140826Z_v1.0_20250414T222111Z.nc'\u001b[0m\u001b[1m)\u001b[0m,\n",
       "    \u001b[1;35mPosixPath\u001b[0m\u001b[1m(\u001b[0m\u001b[32m'/home/staniewi/dev/disp-production-data/descending/F11116/ncs/OPERA_L3_DISP-S1_IW_F11116_VV_20211031T140830Z_20220216T140826Z_v1.0_20250414T222111Z.nc'\u001b[0m\u001b[1m)\u001b[0m,\n",
       "    \u001b[1;35mPosixPath\u001b[0m\u001b[1m(\u001b[0m\u001b[32m'/home/staniewi/dev/disp-production-data/descending/F11116/ncs/OPERA_L3_DISP-S1_IW_F11116_VV_20211031T140830Z_20220228T140826Z_v1.0_20250414T222111Z.nc'\u001b[0m\u001b[1m)\u001b[0m,\n",
       "    \u001b[1;35mPosixPath\u001b[0m\u001b[1m(\u001b[0m\u001b[32m'/home/staniewi/dev/disp-production-data/descending/F11116/ncs/OPERA_L3_DISP-S1_IW_F11116_VV_20211031T140830Z_20220312T140826Z_v1.0_20250414T222111Z.nc'\u001b[0m\u001b[1m)\u001b[0m,\n",
       "    \u001b[1;35mPosixPath\u001b[0m\u001b[1m(\u001b[0m\u001b[32m'/home/staniewi/dev/disp-production-data/descending/F11116/ncs/OPERA_L3_DISP-S1_IW_F11116_VV_20220312T140826Z_20220324T140826Z_v1.0_20250415T205504Z.nc'\u001b[0m\u001b[1m)\u001b[0m,\n",
       "    \u001b[1;35mPosixPath\u001b[0m\u001b[1m(\u001b[0m\u001b[32m'/home/staniewi/dev/disp-production-data/descending/F11116/ncs/OPERA_L3_DISP-S1_IW_F11116_VV_20220312T140826Z_20220405T140826Z_v1.0_20250415T205504Z.nc'\u001b[0m\u001b[1m)\u001b[0m,\n",
       "    \u001b[1;35mPosixPath\u001b[0m\u001b[1m(\u001b[0m\u001b[32m'/home/staniewi/dev/disp-production-data/descending/F11116/ncs/OPERA_L3_DISP-S1_IW_F11116_VV_20220312T140826Z_20220417T140827Z_v1.0_20250415T205504Z.nc'\u001b[0m\u001b[1m)\u001b[0m,\n",
       "    \u001b[1;35mPosixPath\u001b[0m\u001b[1m(\u001b[0m\u001b[32m'/home/staniewi/dev/disp-production-data/descending/F11116/ncs/OPERA_L3_DISP-S1_IW_F11116_VV_20220312T140826Z_20220429T140827Z_v1.0_20250415T205504Z.nc'\u001b[0m\u001b[1m)\u001b[0m,\n",
       "    \u001b[1;35mPosixPath\u001b[0m\u001b[1m(\u001b[0m\u001b[32m'/home/staniewi/dev/disp-production-data/descending/F11116/ncs/OPERA_L3_DISP-S1_IW_F11116_VV_20220312T140826Z_20220511T140828Z_v1.0_20250415T205504Z.nc'\u001b[0m\u001b[1m)\u001b[0m,\n",
       "    \u001b[1;35mPosixPath\u001b[0m\u001b[1m(\u001b[0m\u001b[32m'/home/staniewi/dev/disp-production-data/descending/F11116/ncs/OPERA_L3_DISP-S1_IW_F11116_VV_20220312T140826Z_20220523T140829Z_v1.0_20250415T205504Z.nc'\u001b[0m\u001b[1m)\u001b[0m,\n",
       "    \u001b[1;35mPosixPath\u001b[0m\u001b[1m(\u001b[0m\u001b[32m'/home/staniewi/dev/disp-production-data/descending/F11116/ncs/OPERA_L3_DISP-S1_IW_F11116_VV_20220312T140826Z_20220604T140830Z_v1.0_20250415T205504Z.nc'\u001b[0m\u001b[1m)\u001b[0m,\n",
       "    \u001b[1;35mPosixPath\u001b[0m\u001b[1m(\u001b[0m\u001b[32m'/home/staniewi/dev/disp-production-data/descending/F11116/ncs/OPERA_L3_DISP-S1_IW_F11116_VV_20220312T140826Z_20220616T140830Z_v1.0_20250415T205504Z.nc'\u001b[0m\u001b[1m)\u001b[0m,\n",
       "    \u001b[1;35mPosixPath\u001b[0m\u001b[1m(\u001b[0m\u001b[32m'/home/staniewi/dev/disp-production-data/descending/F11116/ncs/OPERA_L3_DISP-S1_IW_F11116_VV_20220312T140826Z_20220628T140831Z_v1.0_20250415T205504Z.nc'\u001b[0m\u001b[1m)\u001b[0m,\n",
       "    \u001b[1;35mPosixPath\u001b[0m\u001b[1m(\u001b[0m\u001b[32m'/home/staniewi/dev/disp-production-data/descending/F11116/ncs/OPERA_L3_DISP-S1_IW_F11116_VV_20220312T140826Z_20220710T140832Z_v1.0_20250415T205504Z.nc'\u001b[0m\u001b[1m)\u001b[0m,\n",
       "    \u001b[1;35mPosixPath\u001b[0m\u001b[1m(\u001b[0m\u001b[32m'/home/staniewi/dev/disp-production-data/descending/F11116/ncs/OPERA_L3_DISP-S1_IW_F11116_VV_20220312T140826Z_20220722T140833Z_v1.0_20250415T205504Z.nc'\u001b[0m\u001b[1m)\u001b[0m,\n",
       "    \u001b[1;35mPosixPath\u001b[0m\u001b[1m(\u001b[0m\u001b[32m'/home/staniewi/dev/disp-production-data/descending/F11116/ncs/OPERA_L3_DISP-S1_IW_F11116_VV_20220312T140826Z_20220803T140834Z_v1.0_20250415T205504Z.nc'\u001b[0m\u001b[1m)\u001b[0m,\n",
       "    \u001b[1;35mPosixPath\u001b[0m\u001b[1m(\u001b[0m\u001b[32m'/home/staniewi/dev/disp-production-data/descending/F11116/ncs/OPERA_L3_DISP-S1_IW_F11116_VV_20220312T140826Z_20220815T140834Z_v1.0_20250415T205504Z.nc'\u001b[0m\u001b[1m)\u001b[0m,\n",
       "    \u001b[1;35mPosixPath\u001b[0m\u001b[1m(\u001b[0m\u001b[32m'/home/staniewi/dev/disp-production-data/descending/F11116/ncs/OPERA_L3_DISP-S1_IW_F11116_VV_20220312T140826Z_20220827T140835Z_v1.0_20250415T205504Z.nc'\u001b[0m\u001b[1m)\u001b[0m,\n",
       "    \u001b[1;35mPosixPath\u001b[0m\u001b[1m(\u001b[0m\u001b[32m'/home/staniewi/dev/disp-production-data/descending/F11116/ncs/OPERA_L3_DISP-S1_IW_F11116_VV_20220312T140826Z_20220908T140836Z_v1.0_20250415T205504Z.nc'\u001b[0m\u001b[1m)\u001b[0m,\n",
       "    \u001b[1;35mPosixPath\u001b[0m\u001b[1m(\u001b[0m\u001b[32m'/home/staniewi/dev/disp-production-data/descending/F11116/ncs/OPERA_L3_DISP-S1_IW_F11116_VV_20220908T140836Z_20220920T140835Z_v1.0_20250416T025719Z.nc'\u001b[0m\u001b[1m)\u001b[0m,\n",
       "    \u001b[1;35mPosixPath\u001b[0m\u001b[1m(\u001b[0m\u001b[32m'/home/staniewi/dev/disp-production-data/descending/F11116/ncs/OPERA_L3_DISP-S1_IW_F11116_VV_20220908T140836Z_20221002T140836Z_v1.0_20250416T025719Z.nc'\u001b[0m\u001b[1m)\u001b[0m,\n",
       "    \u001b[1;35mPosixPath\u001b[0m\u001b[1m(\u001b[0m\u001b[32m'/home/staniewi/dev/disp-production-data/descending/F11116/ncs/OPERA_L3_DISP-S1_IW_F11116_VV_20220908T140836Z_20221014T140836Z_v1.0_20250416T025719Z.nc'\u001b[0m\u001b[1m)\u001b[0m,\n",
       "    \u001b[1;35mPosixPath\u001b[0m\u001b[1m(\u001b[0m\u001b[32m'/home/staniewi/dev/disp-production-data/descending/F11116/ncs/OPERA_L3_DISP-S1_IW_F11116_VV_20220908T140836Z_20221026T140836Z_v1.0_20250416T025719Z.nc'\u001b[0m\u001b[1m)\u001b[0m,\n",
       "    \u001b[1;35mPosixPath\u001b[0m\u001b[1m(\u001b[0m\u001b[32m'/home/staniewi/dev/disp-production-data/descending/F11116/ncs/OPERA_L3_DISP-S1_IW_F11116_VV_20220908T140836Z_20221107T140836Z_v1.0_20250416T025719Z.nc'\u001b[0m\u001b[1m)\u001b[0m,\n",
       "    \u001b[1;35mPosixPath\u001b[0m\u001b[1m(\u001b[0m\u001b[32m'/home/staniewi/dev/disp-production-data/descending/F11116/ncs/OPERA_L3_DISP-S1_IW_F11116_VV_20220908T140836Z_20221119T140836Z_v1.0_20250416T025719Z.nc'\u001b[0m\u001b[1m)\u001b[0m,\n",
       "    \u001b[1;35mPosixPath\u001b[0m\u001b[1m(\u001b[0m\u001b[32m'/home/staniewi/dev/disp-production-data/descending/F11116/ncs/OPERA_L3_DISP-S1_IW_F11116_VV_20220908T140836Z_20221201T140835Z_v1.0_20250416T025719Z.nc'\u001b[0m\u001b[1m)\u001b[0m,\n",
       "    \u001b[1;35mPosixPath\u001b[0m\u001b[1m(\u001b[0m\u001b[32m'/home/staniewi/dev/disp-production-data/descending/F11116/ncs/OPERA_L3_DISP-S1_IW_F11116_VV_20220908T140836Z_20221213T140834Z_v1.0_20250416T025719Z.nc'\u001b[0m\u001b[1m)\u001b[0m,\n",
       "    \u001b[1;35mPosixPath\u001b[0m\u001b[1m(\u001b[0m\u001b[32m'/home/staniewi/dev/disp-production-data/descending/F11116/ncs/OPERA_L3_DISP-S1_IW_F11116_VV_20220908T140836Z_20230106T140833Z_v1.0_20250416T025719Z.nc'\u001b[0m\u001b[1m)\u001b[0m,\n",
       "    \u001b[1;35mPosixPath\u001b[0m\u001b[1m(\u001b[0m\u001b[32m'/home/staniewi/dev/disp-production-data/descending/F11116/ncs/OPERA_L3_DISP-S1_IW_F11116_VV_20220908T140836Z_20230118T140832Z_v1.0_20250416T025719Z.nc'\u001b[0m\u001b[1m)\u001b[0m,\n",
       "    \u001b[1;35mPosixPath\u001b[0m\u001b[1m(\u001b[0m\u001b[32m'/home/staniewi/dev/disp-production-data/descending/F11116/ncs/OPERA_L3_DISP-S1_IW_F11116_VV_20220908T140836Z_20230130T140833Z_v1.0_20250416T025719Z.nc'\u001b[0m\u001b[1m)\u001b[0m,\n",
       "    \u001b[1;35mPosixPath\u001b[0m\u001b[1m(\u001b[0m\u001b[32m'/home/staniewi/dev/disp-production-data/descending/F11116/ncs/OPERA_L3_DISP-S1_IW_F11116_VV_20220908T140836Z_20230211T140832Z_v1.0_20250416T025719Z.nc'\u001b[0m\u001b[1m)\u001b[0m,\n",
       "    \u001b[1;35mPosixPath\u001b[0m\u001b[1m(\u001b[0m\u001b[32m'/home/staniewi/dev/disp-production-data/descending/F11116/ncs/OPERA_L3_DISP-S1_IW_F11116_VV_20220908T140836Z_20230223T140831Z_v1.0_20250416T025719Z.nc'\u001b[0m\u001b[1m)\u001b[0m,\n",
       "    \u001b[1;35mPosixPath\u001b[0m\u001b[1m(\u001b[0m\u001b[32m'/home/staniewi/dev/disp-production-data/descending/F11116/ncs/OPERA_L3_DISP-S1_IW_F11116_VV_20220908T140836Z_20230307T140832Z_v1.0_20250416T025719Z.nc'\u001b[0m\u001b[1m)\u001b[0m,\n",
       "    \u001b[1;35mPosixPath\u001b[0m\u001b[1m(\u001b[0m\u001b[32m'/home/staniewi/dev/disp-production-data/descending/F11116/ncs/OPERA_L3_DISP-S1_IW_F11116_VV_20220908T140836Z_20230319T140832Z_v1.0_20250416T025719Z.nc'\u001b[0m\u001b[1m)\u001b[0m,\n",
       "    \u001b[1;35mPosixPath\u001b[0m\u001b[1m(\u001b[0m\u001b[32m'/home/staniewi/dev/disp-production-data/descending/F11116/ncs/OPERA_L3_DISP-S1_IW_F11116_VV_20230319T140832Z_20230331T140832Z_v1.0_20250416T085929Z.nc'\u001b[0m\u001b[1m)\u001b[0m,\n",
       "    \u001b[1;35mPosixPath\u001b[0m\u001b[1m(\u001b[0m\u001b[32m'/home/staniewi/dev/disp-production-data/descending/F11116/ncs/OPERA_L3_DISP-S1_IW_F11116_VV_20230319T140832Z_20230412T140832Z_v1.0_20250416T085929Z.nc'\u001b[0m\u001b[1m)\u001b[0m,\n",
       "    \u001b[1;35mPosixPath\u001b[0m\u001b[1m(\u001b[0m\u001b[32m'/home/staniewi/dev/disp-production-data/descending/F11116/ncs/OPERA_L3_DISP-S1_IW_F11116_VV_20230319T140832Z_20230424T140833Z_v1.0_20250416T085929Z.nc'\u001b[0m\u001b[1m)\u001b[0m,\n",
       "    \u001b[1;35mPosixPath\u001b[0m\u001b[1m(\u001b[0m\u001b[32m'/home/staniewi/dev/disp-production-data/descending/F11116/ncs/OPERA_L3_DISP-S1_IW_F11116_VV_20230319T140832Z_20230506T140834Z_v1.0_20250416T085929Z.nc'\u001b[0m\u001b[1m)\u001b[0m,\n",
       "    \u001b[1;35mPosixPath\u001b[0m\u001b[1m(\u001b[0m\u001b[32m'/home/staniewi/dev/disp-production-data/descending/F11116/ncs/OPERA_L3_DISP-S1_IW_F11116_VV_20230319T140832Z_20230518T140834Z_v1.0_20250416T085929Z.nc'\u001b[0m\u001b[1m)\u001b[0m,\n",
       "    \u001b[1;35mPosixPath\u001b[0m\u001b[1m(\u001b[0m\u001b[32m'/home/staniewi/dev/disp-production-data/descending/F11116/ncs/OPERA_L3_DISP-S1_IW_F11116_VV_20230319T140832Z_20230530T140835Z_v1.0_20250416T085929Z.nc'\u001b[0m\u001b[1m)\u001b[0m,\n",
       "    \u001b[1;35mPosixPath\u001b[0m\u001b[1m(\u001b[0m\u001b[32m'/home/staniewi/dev/disp-production-data/descending/F11116/ncs/OPERA_L3_DISP-S1_IW_F11116_VV_20230319T140832Z_20230611T140835Z_v1.0_20250416T085929Z.nc'\u001b[0m\u001b[1m)\u001b[0m,\n",
       "    \u001b[1;35mPosixPath\u001b[0m\u001b[1m(\u001b[0m\u001b[32m'/home/staniewi/dev/disp-production-data/descending/F11116/ncs/OPERA_L3_DISP-S1_IW_F11116_VV_20230319T140832Z_20230705T140837Z_v1.0_20250416T085929Z.nc'\u001b[0m\u001b[1m)\u001b[0m,\n",
       "    \u001b[1;35mPosixPath\u001b[0m\u001b[1m(\u001b[0m\u001b[32m'/home/staniewi/dev/disp-production-data/descending/F11116/ncs/OPERA_L3_DISP-S1_IW_F11116_VV_20230319T140832Z_20230717T140838Z_v1.0_20250416T085929Z.nc'\u001b[0m\u001b[1m)\u001b[0m,\n",
       "    \u001b[1;35mPosixPath\u001b[0m\u001b[1m(\u001b[0m\u001b[32m'/home/staniewi/dev/disp-production-data/descending/F11116/ncs/OPERA_L3_DISP-S1_IW_F11116_VV_20230319T140832Z_20230729T140838Z_v1.0_20250416T085929Z.nc'\u001b[0m\u001b[1m)\u001b[0m,\n",
       "    \u001b[1;35mPosixPath\u001b[0m\u001b[1m(\u001b[0m\u001b[32m'/home/staniewi/dev/disp-production-data/descending/F11116/ncs/OPERA_L3_DISP-S1_IW_F11116_VV_20230319T140832Z_20230810T140838Z_v1.0_20250416T085929Z.nc'\u001b[0m\u001b[1m)\u001b[0m,\n",
       "    \u001b[1;35mPosixPath\u001b[0m\u001b[1m(\u001b[0m\u001b[32m'/home/staniewi/dev/disp-production-data/descending/F11116/ncs/OPERA_L3_DISP-S1_IW_F11116_VV_20230319T140832Z_20230822T140839Z_v1.0_20250416T085929Z.nc'\u001b[0m\u001b[1m)\u001b[0m,\n",
       "    \u001b[1;35mPosixPath\u001b[0m\u001b[1m(\u001b[0m\u001b[32m'/home/staniewi/dev/disp-production-data/descending/F11116/ncs/OPERA_L3_DISP-S1_IW_F11116_VV_20230319T140832Z_20230903T140840Z_v1.0_20250416T085929Z.nc'\u001b[0m\u001b[1m)\u001b[0m,\n",
       "    \u001b[1;35mPosixPath\u001b[0m\u001b[1m(\u001b[0m\u001b[32m'/home/staniewi/dev/disp-production-data/descending/F11116/ncs/OPERA_L3_DISP-S1_IW_F11116_VV_20230319T140832Z_20230915T140841Z_v1.0_20250416T085929Z.nc'\u001b[0m\u001b[1m)\u001b[0m,\n",
       "    \u001b[1;35mPosixPath\u001b[0m\u001b[1m(\u001b[0m\u001b[32m'/home/staniewi/dev/disp-production-data/descending/F11116/ncs/OPERA_L3_DISP-S1_IW_F11116_VV_20230319T140832Z_20230927T140841Z_v1.0_20250416T085929Z.nc'\u001b[0m\u001b[1m)\u001b[0m,\n",
       "    \u001b[1;35mPosixPath\u001b[0m\u001b[1m(\u001b[0m\u001b[32m'/home/staniewi/dev/disp-production-data/descending/F11116/ncs/OPERA_L3_DISP-S1_IW_F11116_VV_20230927T140841Z_20231009T140841Z_v1.0_20250416T152052Z.nc'\u001b[0m\u001b[1m)\u001b[0m,\n",
       "    \u001b[1;35mPosixPath\u001b[0m\u001b[1m(\u001b[0m\u001b[32m'/home/staniewi/dev/disp-production-data/descending/F11116/ncs/OPERA_L3_DISP-S1_IW_F11116_VV_20230927T140841Z_20231021T140841Z_v1.0_20250416T152052Z.nc'\u001b[0m\u001b[1m)\u001b[0m,\n",
       "    \u001b[1;35mPosixPath\u001b[0m\u001b[1m(\u001b[0m\u001b[32m'/home/staniewi/dev/disp-production-data/descending/F11116/ncs/OPERA_L3_DISP-S1_IW_F11116_VV_20230927T140841Z_20231102T140840Z_v1.0_20250416T152052Z.nc'\u001b[0m\u001b[1m)\u001b[0m,\n",
       "    \u001b[1;35mPosixPath\u001b[0m\u001b[1m(\u001b[0m\u001b[32m'/home/staniewi/dev/disp-production-data/descending/F11116/ncs/OPERA_L3_DISP-S1_IW_F11116_VV_20230927T140841Z_20231114T140841Z_v1.0_20250416T152052Z.nc'\u001b[0m\u001b[1m)\u001b[0m,\n",
       "    \u001b[1;35mPosixPath\u001b[0m\u001b[1m(\u001b[0m\u001b[32m'/home/staniewi/dev/disp-production-data/descending/F11116/ncs/OPERA_L3_DISP-S1_IW_F11116_VV_20230927T140841Z_20231126T140840Z_v1.0_20250416T152052Z.nc'\u001b[0m\u001b[1m)\u001b[0m,\n",
       "    \u001b[1;35mPosixPath\u001b[0m\u001b[1m(\u001b[0m\u001b[32m'/home/staniewi/dev/disp-production-data/descending/F11116/ncs/OPERA_L3_DISP-S1_IW_F11116_VV_20230927T140841Z_20231208T140840Z_v1.0_20250416T152052Z.nc'\u001b[0m\u001b[1m)\u001b[0m,\n",
       "    \u001b[1;35mPosixPath\u001b[0m\u001b[1m(\u001b[0m\u001b[32m'/home/staniewi/dev/disp-production-data/descending/F11116/ncs/OPERA_L3_DISP-S1_IW_F11116_VV_20230927T140841Z_20231220T140838Z_v1.0_20250416T152052Z.nc'\u001b[0m\u001b[1m)\u001b[0m,\n",
       "    \u001b[1;35mPosixPath\u001b[0m\u001b[1m(\u001b[0m\u001b[32m'/home/staniewi/dev/disp-production-data/descending/F11116/ncs/OPERA_L3_DISP-S1_IW_F11116_VV_20230927T140841Z_20240113T140838Z_v1.0_20250416T152052Z.nc'\u001b[0m\u001b[1m)\u001b[0m,\n",
       "    \u001b[1;35mPosixPath\u001b[0m\u001b[1m(\u001b[0m\u001b[32m'/home/staniewi/dev/disp-production-data/descending/F11116/ncs/OPERA_L3_DISP-S1_IW_F11116_VV_20230927T140841Z_20240125T140837Z_v1.0_20250416T152052Z.nc'\u001b[0m\u001b[1m)\u001b[0m,\n",
       "    \u001b[1;35mPosixPath\u001b[0m\u001b[1m(\u001b[0m\u001b[32m'/home/staniewi/dev/disp-production-data/descending/F11116/ncs/OPERA_L3_DISP-S1_IW_F11116_VV_20230927T140841Z_20240206T140837Z_v1.0_20250416T152052Z.nc'\u001b[0m\u001b[1m)\u001b[0m,\n",
       "    \u001b[1;35mPosixPath\u001b[0m\u001b[1m(\u001b[0m\u001b[32m'/home/staniewi/dev/disp-production-data/descending/F11116/ncs/OPERA_L3_DISP-S1_IW_F11116_VV_20230927T140841Z_20240218T140837Z_v1.0_20250416T152052Z.nc'\u001b[0m\u001b[1m)\u001b[0m,\n",
       "    \u001b[1;35mPosixPath\u001b[0m\u001b[1m(\u001b[0m\u001b[32m'/home/staniewi/dev/disp-production-data/descending/F11116/ncs/OPERA_L3_DISP-S1_IW_F11116_VV_20230927T140841Z_20240301T140837Z_v1.0_20250416T152052Z.nc'\u001b[0m\u001b[1m)\u001b[0m,\n",
       "    \u001b[1;35mPosixPath\u001b[0m\u001b[1m(\u001b[0m\u001b[32m'/home/staniewi/dev/disp-production-data/descending/F11116/ncs/OPERA_L3_DISP-S1_IW_F11116_VV_20230927T140841Z_20240313T140837Z_v1.0_20250416T152052Z.nc'\u001b[0m\u001b[1m)\u001b[0m,\n",
       "    \u001b[1;35mPosixPath\u001b[0m\u001b[1m(\u001b[0m\u001b[32m'/home/staniewi/dev/disp-production-data/descending/F11116/ncs/OPERA_L3_DISP-S1_IW_F11116_VV_20230927T140841Z_20240325T140837Z_v1.0_20250416T152052Z.nc'\u001b[0m\u001b[1m)\u001b[0m,\n",
       "    \u001b[1;35mPosixPath\u001b[0m\u001b[1m(\u001b[0m\u001b[32m'/home/staniewi/dev/disp-production-data/descending/F11116/ncs/OPERA_L3_DISP-S1_IW_F11116_VV_20230927T140841Z_20240406T140838Z_v1.0_20250416T152052Z.nc'\u001b[0m\u001b[1m)\u001b[0m\n",
       "\u001b[1m]\u001b[0m"
      ]
     },
     "execution_count": 12,
     "metadata": {},
     "output_type": "execute_result"
    }
   ],
   "source": [
    "%%time\n",
    "\n",
    "download_urls([g.url for g in granules], output_path=data_dir, max_workers=num_workers);"
   ]
  },
  {
   "cell_type": "code",
   "execution_count": 4,
   "id": "cf220ddf-247f-43c5-93fc-783eb056f33a",
   "metadata": {
    "editable": true,
    "slideshow": {
     "slide_type": ""
    },
    "tags": []
   },
   "outputs": [
    {
     "data": {
      "text/html": [
       "<pre style=\"white-space:pre;overflow-x:auto;line-height:normal;font-family:Menlo,'DejaVu Sans Mono',consolas,'Courier New',monospace\"></pre>\n"
      ],
      "text/plain": []
     },
     "metadata": {},
     "output_type": "display_data"
    },
    {
     "data": {
      "text/plain": [
       "\u001b[1m<\u001b[0m\u001b[1;95mmodule\u001b[0m\u001b[39m \u001b[0m\u001b[32m'rebase_reference'\u001b[0m\u001b[39m from \u001b[0m\u001b[32m'/home/staniewi/repos/opera-utils/scripts/rebase_reference.py'\u001b[0m\u001b[1m>\u001b[0m"
      ]
     },
     "execution_count": 4,
     "metadata": {},
     "output_type": "execute_result"
    }
   ],
   "source": [
    "# TODO: move script to something importable \n",
    "\n",
    "# %run -n /home/staniewi/repos/opera-utils/scripts/rebase_reference.py\n",
    "import sys\n",
    "\n",
    "sys.path.append(\"/home/staniewi/repos/opera-utils/scripts/\")\n",
    "import importlib\n",
    "\n",
    "import rebase_reference\n",
    "\n",
    "importlib.reload(rebase_reference)"
   ]
  },
  {
   "cell_type": "code",
   "execution_count": 5,
   "id": "76166679-7909-4f63-93f9-3c4fe8ad71d4",
   "metadata": {
    "editable": true,
    "slideshow": {
     "slide_type": ""
    },
    "tags": []
   },
   "outputs": [],
   "source": [
    "nc_files = sorted(data_dir.glob(\"*.nc\"))\n",
    "output_dir = work_dir / \"aligned\"\n",
    "output_dir.mkdir(exist_ok=True)"
   ]
  },
  {
   "cell_type": "code",
   "execution_count": 22,
   "id": "3d28ff34-888f-4ffe-9587-98045dd3ddc9",
   "metadata": {
    "editable": true,
    "slideshow": {
     "slide_type": ""
    },
    "tags": []
   },
   "outputs": [
    {
     "name": "stdout",
     "output_type": "stream",
     "text": [
      "CPU times: user 990 ms, sys: 725 ms, total: 1.72 s\n",
      "Wall time: 26min 54s\n"
     ]
    }
   ],
   "source": [
    "%%time\n",
    "\n",
    "rebase_reference.main(nc_files=nc_files, output_dir=output_dir, apply_corrections=True, reference_point=None, num_workers=num_workers)"
   ]
  },
  {
   "cell_type": "code",
   "execution_count": 6,
   "id": "e1778b72-2d19-493e-ab1b-b446dab3186b",
   "metadata": {
    "editable": true,
    "slideshow": {
     "slide_type": ""
    },
    "tags": []
   },
   "outputs": [],
   "source": [
    "from dolphin import timeseries, utils"
   ]
  },
  {
   "cell_type": "code",
   "execution_count": 7,
   "id": "80a73636-1f00-45d2-8b26-542ccd344ae4",
   "metadata": {
    "editable": true,
    "slideshow": {
     "slide_type": ""
    },
    "tags": []
   },
   "outputs": [
    {
     "data": {
      "text/html": [
       "<pre style=\"white-space:pre;overflow-x:auto;line-height:normal;font-family:Menlo,'DejaVu Sans Mono',consolas,'Courier New',monospace\"></pre>\n"
      ],
      "text/plain": []
     },
     "metadata": {},
     "output_type": "display_data"
    },
    {
     "data": {
      "text/plain": [
       "\u001b[1m<\u001b[0m\u001b[1;95mfunction\u001b[0m\u001b[39m create_velocity at \u001b[0m\u001b[1;36m0x7f2536aa8ae0\u001b[0m\u001b[1m>\u001b[0m"
      ]
     },
     "execution_count": 7,
     "metadata": {},
     "output_type": "execute_result"
    }
   ],
   "source": [
    "timeseries.create_velocity"
   ]
  },
  {
   "cell_type": "code",
   "execution_count": 10,
   "id": "0830b768-0b35-41f9-aa21-2904df9fd8db",
   "metadata": {
    "editable": true,
    "slideshow": {
     "slide_type": ""
    },
    "tags": []
   },
   "outputs": [
    {
     "data": {
      "application/vnd.jupyter.widget-view+json": {
       "model_id": "c30e841c437e46d4af9fd21104c904b8",
       "version_major": 2,
       "version_minor": 0
      },
      "text/plain": [
       "  0%|          | 0/1026 [00:00<?, ?it/s]"
      ]
     },
     "metadata": {},
     "output_type": "display_data"
    },
    {
     "data": {
      "application/vnd.jupyter.widget-view+json": {
       "model_id": "a4a5af23dc7244cd9707ed4d9fb5fa80",
       "version_major": 2,
       "version_minor": 0
      },
      "text/plain": [
       "  0%|          | 0/1 [00:00<?, ?it/s]"
      ]
     },
     "metadata": {},
     "output_type": "display_data"
    },
    {
     "name": "stdout",
     "output_type": "stream",
     "text": [
      "CPU times: user 14min 27s, sys: 4min 50s, total: 19min 18s\n",
      "Wall time: 2min 40s\n"
     ]
    }
   ],
   "source": [
    "%%time\n",
    "utils.disable_gpu()\n",
    "\n",
    "disp_files = sorted(output_dir.glob(\"displacement*tif\"))\n",
    "velocity_file = output_dir / \"velocity.tif\"\n",
    "timeseries.create_velocity(unw_file_list=disp_files, output_file=velocity_file, reference=None, num_threads=5)"
   ]
  },
  {
   "cell_type": "code",
   "execution_count": null,
   "id": "2e310411-54ae-4008-ba9d-a2bceba6b3ee",
   "metadata": {
    "editable": true,
    "slideshow": {
     "slide_type": ""
    },
    "tags": []
   },
   "outputs": [],
   "source": []
  }
 ],
 "metadata": {
  "kernelspec": {
   "display_name": "Python 3 (ipykernel)",
   "language": "python",
   "name": "python3"
  },
  "language_info": {
   "codemirror_mode": {
    "name": "ipython",
    "version": 3
   },
   "file_extension": ".py",
   "mimetype": "text/x-python",
   "name": "python",
   "nbconvert_exporter": "python",
   "pygments_lexer": "ipython3",
   "version": "3.11.9"
  }
 },
 "nbformat": 4,
 "nbformat_minor": 5
}
